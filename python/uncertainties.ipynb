{
 "cells": [
  {
   "cell_type": "markdown",
   "metadata": {},
   "source": [
    "# Automatisieren von Fehlerrechnung\n",
    "\n",
    "- Gesucht: Unsicherheit von $f(x_1, \\dots x_m)$, wenn $x_i$ Unsicherheiten haben\n",
    "- Gaußsche Fehlerfortpflanzung:\n",
    "\n",
    "$$ \\sigma_{f} = \\sqrt{\\sum_{i=1}^m \\left( \\frac{\\partial f}{\\partial x_i}\\right)^{\\!2} \\sigma_{x_i}^2} $$\n",
    "\n",
    "\n",
    "- Manuelle Fehlerfortpflanzung:\n",
    " 1. Berechne die Ableitungen von $f$ nach allen fehlerbehafteten Größen $x_i$\n",
    " 2. Ableitungen in die obere Formel einsetzen\n",
    " 3. Werte und Unsicherheiten der $x_i$ einsetzen\n",
    "- Probleme:\n",
    " - Kompliziert, dauert lange, man macht oft Fehler\n",
    " - Falsches Ergebnis, wenn $x_i$ korreliert sind, dann erweiterte Fehlerfortpflanzung:\n",
    " \n",
    "$$ \\sigma_{f} = \\sqrt{\\sum_{i=1}^m \\left( \\frac{\\partial f}{\\partial x_i}\\right)^{\\!2} \\sigma_{x_i}^2 + \\sum_{j\\neq k} \\frac{\\partial f}{\\partial x_j} \\frac{\\partial f}{\\partial x_k} \\operatorname{cov}(x_j, x_k)} $$\n",
    "\n",
    "- $\\operatorname{cov}(x_j, x_k)$ sind die Einträge der Kovarianzmatrix und beschreiben die Korrelation zwischen\n",
    " den Unsicherheiten von $x_j$ und $x_k$\n",
    " \n",
    "- konkret für zwei Messgrößen x, y, die $N$ mal gemessen wurden:\n",
    " \n",
    " $$ \\operatorname{cov}(x, y) = \\frac{\\sum_{i = 1}^{N} (x_i - \\bar{x})(y_i - \\bar{y})}{N} $$ \n",
    "\n",
    " \n",
    "## `uncertainties`\n",
    "\n",
    "- Erlaubt es, Fehlerrechnung automatisch durchzuführen\n",
    "- Datentyp: `ufloat`, repräsentiert Wert mit Unsicherheit"
   ]
  },
  {
   "cell_type": "code",
   "execution_count": null,
   "metadata": {},
   "outputs": [],
   "source": [
    "from uncertainties import ufloat\n",
    "\n",
    "x = ufloat(5, 1)\n",
    "y = ufloat(3, 1)\n",
    "\n",
    "x + y"
   ]
  },
  {
   "cell_type": "markdown",
   "metadata": {},
   "source": [
    "Korrelationen werden von uncertainties beachtet:"
   ]
  },
  {
   "cell_type": "code",
   "execution_count": null,
   "metadata": {},
   "outputs": [],
   "source": [
    "x = ufloat(3, 1)\n",
    "y = ufloat(3, 1)\n",
    "\n",
    "print(x - y)\n",
    "print(x - x)  # error is zero!\n",
    "\n",
    "print(x == y)"
   ]
  },
  {
   "cell_type": "markdown",
   "metadata": {},
   "source": [
    "`uncertainties.unumpy` ergänzt numpy:"
   ]
  },
  {
   "cell_type": "code",
   "execution_count": null,
   "metadata": {},
   "outputs": [],
   "source": [
    "import numpy as np\n",
    "import uncertainties.unumpy as unp\n",
    "\n",
    "x = [1, 2, 3, 4, 5]\n",
    "err = [0.1, 0.3, 0.1, 0.8, 1.0]\n",
    "\n",
    "y = unp.uarray(x, err)\n",
    "\n",
    "unp.cos(unp.exp(y))"
   ]
  },
  {
   "cell_type": "markdown",
   "metadata": {},
   "source": [
    "Man muss daran denken, jetzt die Funktionen aus unumpy zu benutzen (`exp`, `cos`, etc.)."
   ]
  },
  {
   "cell_type": "code",
   "execution_count": null,
   "metadata": {},
   "outputs": [],
   "source": [
    "np.cos(x)"
   ]
  },
  {
   "cell_type": "markdown",
   "metadata": {},
   "source": [
    "Zugriff auf Wert und Standardabweichung mit `n` und `s`:"
   ]
  },
  {
   "cell_type": "code",
   "execution_count": null,
   "metadata": {},
   "outputs": [],
   "source": [
    "x = ufloat(5, 1)\n",
    "print(x.n)\n",
    "print(x.s)"
   ]
  },
  {
   "cell_type": "markdown",
   "metadata": {},
   "source": [
    "Bei `unumpy` mit `nominal_values` und `std_devs`"
   ]
  },
  {
   "cell_type": "code",
   "execution_count": null,
   "metadata": {},
   "outputs": [],
   "source": [
    "x = unp.uarray([1, 2, 3], [0.3, 0.3, 0.1])\n",
    "print(unp.nominal_values(x))\n",
    "print(unp.std_devs(x))"
   ]
  },
  {
   "cell_type": "markdown",
   "metadata": {},
   "source": [
    "Kann man natürlich auch im import abkürzen:"
   ]
  },
  {
   "cell_type": "code",
   "execution_count": null,
   "metadata": {},
   "outputs": [],
   "source": [
    "from uncertainties.unumpy import nominal_values as noms, std_devs as stds\n",
    "\n",
    "print(noms(x))\n",
    "print(stds(x))"
   ]
  },
  {
   "cell_type": "markdown",
   "metadata": {},
   "source": [
    "# Korrelierte Werte"
   ]
  },
  {
   "cell_type": "code",
   "execution_count": null,
   "metadata": {},
   "outputs": [],
   "source": [
    "import numpy as np\n",
    "import matplotlib.pyplot as plt\n",
    "\n",
    "plt.rcParams[\"figure.figsize\"] = (8, 4)\n",
    "plt.rcParams[\"font.size\"] = 16\n",
    "\n",
    "x = np.array([90, 60, 45, 100, 15, 23, 52, 30, 71, 88])\n",
    "y = np.array([90, 71, 65, 100, 45, 60, 75, 85, 100, 80])\n",
    "\n",
    "fig, ax = plt.subplots(1, 1, layout=\"constrained\")\n",
    "\n",
    "ax.plot(x, y, \"ro\")\n",
    "ax.set_xlabel(\"x\")\n",
    "ax.set_ylabel(\"y\");"
   ]
  },
  {
   "cell_type": "markdown",
   "metadata": {},
   "source": [
    "Wir vermuten eine lineare Korrelation der Messwerte und stützen die Hypothese mit dem Korrelationskoeffizient:\n",
    "\n",
    "$$r = \\frac{cov(x, y)}{\\sigma_x \\sigma_y}, \\quad -1 \\leq r \\leq 1$$ "
   ]
  },
  {
   "cell_type": "code",
   "execution_count": null,
   "metadata": {},
   "outputs": [],
   "source": [
    "x_mean = np.mean(x)\n",
    "y_mean = np.mean(y)\n",
    "\n",
    "dx = x - x_mean\n",
    "dy = y - y_mean\n",
    "corr_coeff = np.sum(dx * dy) / np.sqrt(np.sum(dx**2) * np.sum(dy**2))\n",
    "print(corr_coeff)"
   ]
  },
  {
   "cell_type": "markdown",
   "metadata": {},
   "source": [
    "Korrelation zwischen Variablen mit `correlated_values` erzeugen: "
   ]
  },
  {
   "cell_type": "code",
   "execution_count": null,
   "metadata": {},
   "outputs": [],
   "source": [
    "from uncertainties import correlated_values\n",
    "\n",
    "values = [1, 2]\n",
    "\n",
    "cov = [[0.5, 0.25], [0.25, 0.2]]\n",
    "\n",
    "x, y = correlated_values(values, cov)"
   ]
  },
  {
   "cell_type": "markdown",
   "metadata": {},
   "source": [
    "### Vorsicht bei Fits:\n",
    "Korrelierte Fit-Parameter führen zu nichts-sagenden Ergebnissen. Kontrolle: Korrelationsmatrix."
   ]
  },
  {
   "cell_type": "code",
   "execution_count": null,
   "metadata": {},
   "outputs": [],
   "source": [
    "%matplotlib inline\n",
    "\n",
    "import numpy as np\n",
    "import matplotlib.pyplot as plt\n",
    "\n",
    "plt.rcParams[\"figure.figsize\"] = (10, 8)\n",
    "plt.rcParams[\"font.size\"] = 16\n",
    "from scipy.optimize import curve_fit\n",
    "from uncertainties import correlated_values, correlation_matrix\n",
    "\n",
    "rng = np.random.default_rng()\n",
    "\n",
    "\n",
    "def f1(x, a, phi):\n",
    "    return a * np.cos(x + phi)\n",
    "\n",
    "\n",
    "def f2(x, a, b):\n",
    "    return a * np.cos(x) + b * np.sin(x)\n",
    "\n",
    "\n",
    "x = np.linspace(0, 4 * np.pi, 15)\n",
    "y = 5 * np.sin(x) + 5 * np.cos(x) + rng.normal(0, 0.8, 15)\n",
    "\n",
    "params1, cov1 = curve_fit(f1, x, y)\n",
    "params2, cov2 = curve_fit(f2, x, y)\n",
    "\n",
    "params1 = correlated_values(params1, cov1)\n",
    "params2 = correlated_values(params2, cov2)\n",
    "\n",
    "\n",
    "x_plot = np.linspace(0, 4 * np.pi, 1000)\n",
    "\n",
    "fig, ax = plt.subplots(1, 1, layout=\"constrained\")\n",
    "\n",
    "ax.plot(x, y, \"k.\")\n",
    "\n",
    "ax.plot(x_plot, f1(x_plot, *noms(params1)), label=\"f1\", lw=2)\n",
    "ax.plot(x_plot, f2(x_plot, *noms(params2)), \"--\", label=\"f2\", lw=2)\n",
    "\n",
    "ax.legend()\n",
    "\n",
    "fig, (ax1, ax2) = plt.subplots(2, 1, layout=\"constrained\")\n",
    "\n",
    "print(correlation_matrix(params1))\n",
    "print(correlation_matrix(params2))\n",
    "\n",
    "mat1 = ax1.matshow(correlation_matrix(params1), cmap=\"RdBu_r\", vmin=-1, vmax=1)\n",
    "mat2 = ax2.matshow(correlation_matrix(params2), cmap=\"RdBu_r\", vmin=-1, vmax=1)\n",
    "fig.colorbar(mat1, ax=ax1)\n",
    "fig.colorbar(mat2, ax=ax2);"
   ]
  },
  {
   "cell_type": "markdown",
   "metadata": {},
   "source": [
    "## Vorsicht\n",
    "\n",
    "Man kann keine `ufloat`s plotten:"
   ]
  },
  {
   "cell_type": "code",
   "execution_count": null,
   "metadata": {},
   "outputs": [],
   "source": [
    "x = np.linspace(0, 10)\n",
    "y = unp.uarray(np.linspace(0, 5), 1)\n",
    "\n",
    "fig, ax = plt.subplots(1, 1, layout=\"constrained\")\n",
    "\n",
    "# ax.plot(x, y, 'rx')\n",
    "ax.errorbar(x, unp.nominal_values(y), yerr=unp.std_devs(y), fmt=\"rx\");"
   ]
  },
  {
   "cell_type": "markdown",
   "metadata": {},
   "source": [
    "# SymPy\n",
    "\n",
    "<img src=http://docs.sympy.org/latest/_static/sympylogo.png style=\"width: 300px;\"></img>\n",
    "\n",
    "- Kann Ableitungen automatisch generieren"
   ]
  },
  {
   "cell_type": "markdown",
   "metadata": {},
   "source": [
    "SymPy importieren:"
   ]
  },
  {
   "cell_type": "code",
   "execution_count": null,
   "metadata": {},
   "outputs": [],
   "source": [
    "import sympy"
   ]
  },
  {
   "cell_type": "markdown",
   "metadata": {},
   "source": [
    "Mathematische Variablen erzeugen mit `var()`:"
   ]
  },
  {
   "cell_type": "code",
   "execution_count": null,
   "metadata": {},
   "outputs": [],
   "source": [
    "x, y, z = sympy.var(\"x y z\")\n",
    "\n",
    "x + y + z"
   ]
  },
  {
   "cell_type": "markdown",
   "metadata": {},
   "source": [
    "Differenzieren mit `diff()`:"
   ]
  },
  {
   "cell_type": "code",
   "execution_count": null,
   "metadata": {},
   "outputs": [],
   "source": [
    "f = x + y**3 - sympy.cos(z) ** 2\n",
    "\n",
    "print(f)\n",
    "print(f.diff(x))\n",
    "print(f.diff(y))\n",
    "print(f.diff(z))\n",
    "print(f.diff(z, z, z))"
   ]
  },
  {
   "cell_type": "markdown",
   "metadata": {},
   "source": [
    "Eine Funktion, die automatisch die Fehlerformel generiert:"
   ]
  },
  {
   "cell_type": "code",
   "execution_count": null,
   "metadata": {},
   "outputs": [],
   "source": [
    "import sympy\n",
    "\n",
    "\n",
    "def error(f, err_vars=None):\n",
    "    from sympy import Symbol, latex\n",
    "\n",
    "    s = 0\n",
    "    latex_names = dict()\n",
    "\n",
    "    if err_vars is None:\n",
    "        err_vars = f.free_symbols\n",
    "\n",
    "    for v in err_vars:\n",
    "        err = Symbol(\"latex_std_\" + v.name)\n",
    "        s += f.diff(v) ** 2 * err**2\n",
    "        latex_names[err] = \"\\\\sigma_{\" + latex(v) + \"}\"\n",
    "\n",
    "    return latex(sympy.sqrt(s), symbol_names=latex_names)\n",
    "\n",
    "\n",
    "E, q, r = sympy.var(\"E_x q r\")\n",
    "\n",
    "f = E + q**2 * r\n",
    "\n",
    "print(f)\n",
    "print(error(f))\n",
    "print()"
   ]
  },
  {
   "cell_type": "markdown",
   "metadata": {},
   "source": [
    "$$f= E + q^2 r \\quad\\rightarrow\\quad \\sigma_f = \\sqrt{\\sigma_{E_{x}}^{2} + 4 \\sigma_{q}^{2} q^{2} r^{2} + \\sigma_{r}^{2} q^{4}}$$"
   ]
  }
 ],
 "metadata": {
  "anaconda-cloud": {},
  "kernelspec": {
   "display_name": "Python 3 (ipykernel)",
   "language": "python",
   "name": "python3"
  },
  "language_info": {
   "codemirror_mode": {
    "name": "ipython",
    "version": 3
   },
   "file_extension": ".py",
   "mimetype": "text/x-python",
   "name": "python",
   "nbconvert_exporter": "python",
   "pygments_lexer": "ipython3",
   "version": "3.12.6"
  }
 },
 "nbformat": 4,
 "nbformat_minor": 4
}
