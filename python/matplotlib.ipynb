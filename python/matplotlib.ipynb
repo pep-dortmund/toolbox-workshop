{
 "cells": [
  {
   "cell_type": "markdown",
   "metadata": {},
   "source": [
    "# Datenvisualisierung mit\n",
    "\n",
    "![Matplotlib](http://upload.wikimedia.org/wikipedia/en/5/56/Matplotlib_logo.svg)"
   ]
  },
  {
   "cell_type": "markdown",
   "metadata": {},
   "source": [
    "Um mit Matplotlib arbeiten zu können, muss die Bibliothek erst einmal importiert werden. \n",
    "Damit wir nicht so viel tippen müssen geben wir ihr den kürzeren Namen `plt`."
   ]
  },
  {
   "cell_type": "code",
   "execution_count": null,
   "metadata": {
    "tags": []
   },
   "outputs": [],
   "source": [
    "import matplotlib.pyplot as plt\n",
    "plt.rcParams['figure.figsize'] = (10, 8)\n",
    "plt.rcParams['font.size'] = 16\n",
    "plt.rcParams['lines.linewidth'] = 2"
   ]
  },
  {
   "cell_type": "markdown",
   "metadata": {},
   "source": [
    "Außerdem brauchen wir der Einfachheit halber ein paar Funktion aus `numpy`, die euch schon bekannt sind."
   ]
  },
  {
   "cell_type": "code",
   "execution_count": null,
   "metadata": {
    "tags": []
   },
   "outputs": [],
   "source": [
    "import numpy as np"
   ]
  },
  {
   "cell_type": "markdown",
   "metadata": {},
   "source": [
    "Zu erst ein einfaches Beispiel mit $f(x)=x^2$"
   ]
  },
  {
   "cell_type": "code",
   "execution_count": null,
   "metadata": {
    "tags": []
   },
   "outputs": [],
   "source": [
    "x = np.linspace(0, 1) # gibt 50 Zahlen in gleichmäßigem Abstand von 0–1\n",
    "plt.plot(x, x**2);\n",
    "# Falls nicht interaktiv: \n",
    "# plt.show()"
   ]
  },
  {
   "cell_type": "markdown",
   "metadata": {},
   "source": [
    "Um den Text-Output zu unterdrücken in diesem Notebook, schreiben wir ein `;` hinter die letzte Zeile."
   ]
  },
  {
   "cell_type": "code",
   "execution_count": null,
   "metadata": {},
   "outputs": [],
   "source": [
    "plt.plot(x, x**2);"
   ]
  },
  {
   "cell_type": "markdown",
   "metadata": {},
   "source": [
    "Anderes Beispiel: $\\sin(t)$ mit verschiedenen Stilen. Vorsicht, die Funktionen und $\\pi$ sind Bestandteil von `numpy`"
   ]
  },
  {
   "cell_type": "code",
   "execution_count": null,
   "metadata": {
    "tags": []
   },
   "outputs": [],
   "source": [
    "t = np.linspace(0, 2 * np.pi)\n",
    "plt.plot(t, np.sin(t));"
   ]
  },
  {
   "cell_type": "code",
   "execution_count": null,
   "metadata": {
    "tags": []
   },
   "outputs": [],
   "source": [
    "plt.plot(t, np.sin(t), 'r--');"
   ]
  },
  {
   "cell_type": "code",
   "execution_count": null,
   "metadata": {
    "tags": []
   },
   "outputs": [],
   "source": [
    "plt.plot(t, np.sin(t), 'go');"
   ]
  },
  {
   "cell_type": "markdown",
   "metadata": {},
   "source": [
    "Tabelle mit allen Farben und Stilen: [matplotlib.axes.Axes.plot](https://matplotlib.org/stable/api/_as_gen/matplotlib.axes.Axes.plot.html)\n",
    "\n",
    "Neue Grenzen mit `xlim(a, b)` und `ylim(a, b)`"
   ]
  },
  {
   "cell_type": "code",
   "execution_count": null,
   "metadata": {
    "tags": []
   },
   "outputs": [],
   "source": [
    "plt.plot(t, np.sin(t))\n",
    "plt.xlim(0, 2 * np.pi)\n",
    "plt.ylim(-1.2, 1.2);"
   ]
  },
  {
   "cell_type": "markdown",
   "metadata": {},
   "source": [
    "## Es fehlt noch etwas...\n(http://imgs.xkcd.com/comics/convincing.png)",
    "![XKCD comic on why you should label your axes.](http://imgs.xkcd.com/comics/convincing.png \"And if you labeled your axes, I could tell you exactly how MUCH better.\")"
   ]
  },
  {
   "cell_type": "code",
   "execution_count": null,
   "metadata": {
    "tags": []
   },
   "outputs": [],
   "source": [
    "with plt.xkcd():\n",
    "    plt.title('Axes with labels')\n",
    "    plt.plot(t, np.sin(t))\n",
    "    plt.xlabel('t / s')\n",
    "    plt.ylabel('U / V')\n",
    "    plt.ylim(-1.1, 1.1)\n",
    "    plt.xlim(0, 2 * np.pi);"
   ]
  },
  {
   "cell_type": "markdown",
   "metadata": {},
   "source": [
    "## Einheiten in Achsenbeschriftungen werden wegdividiert:"
   ]
  },
  {
   "cell_type": "markdown",
   "metadata": {},
   "source": [
    "Achsen-Beschriftungen können mit LaTeX-Code erstellt werden → LaTeX-Kurs in der nächsten Woche."
   ]
  },
  {
   "cell_type": "code",
   "execution_count": null,
   "metadata": {
    "tags": []
   },
   "outputs": [],
   "source": [
    "plt.plot(t, np.sin(t))\n",
    "plt.xlabel(r'$t / \\mathrm{s}$')\n",
    "plt.ylabel(r'$U / \\mathrm{V}$');\n",
    "\n",
    "plt.plot(t, np.sin(t))\n",
    "plt.xlabel(r'$t / \\mathrm{s}$')\n",
    "plt.ylabel(r'$U \\,/\\, \\mathrm{V}$');  # Spaces sind Geschmacksfrage"
   ]
  },
  {
   "cell_type": "markdown",
   "metadata": {},
   "source": [
    "Mehr zu Einheiten gibt es im LaTeX-Kurs."
   ]
  },
  {
   "cell_type": "markdown",
   "metadata": {},
   "source": [
    "## Legende"
   ]
  },
  {
   "cell_type": "markdown",
   "metadata": {},
   "source": [
    "Legenden für Objekte die ein `label` tragen"
   ]
  },
  {
   "cell_type": "code",
   "execution_count": null,
   "metadata": {
    "tags": []
   },
   "outputs": [],
   "source": [
    "plt.plot(t, np.sin(t), label=r'$\\sin(t)$')\n",
    "plt.legend();\n",
    "#plt.legend(loc='lower left')\n",
    "#plt.legend(loc='best')"
   ]
  },
  {
   "cell_type": "markdown",
   "metadata": {},
   "source": [
    "Seit matplotlib 2.0.2 ist `loc=best` standardmäßig eingestellt.\n",
    "\n",
    "Andere möglche Orte für die Legende findest du hier:\n",
    "\n",
    "https://matplotlib.org/api/legend_api.html"
   ]
  },
  {
   "cell_type": "markdown",
   "metadata": {},
   "source": [
    "### Gitter"
   ]
  },
  {
   "cell_type": "markdown",
   "metadata": {},
   "source": [
    "Mit `grid()` wird ein Gitter erstellt:"
   ]
  },
  {
   "cell_type": "code",
   "execution_count": null,
   "metadata": {
    "tags": []
   },
   "outputs": [],
   "source": [
    "plt.plot(t, np.sin(t))\n",
    "plt.grid();"
   ]
  },
  {
   "cell_type": "markdown",
   "metadata": {},
   "source": [
    "## Laden von Daten"
   ]
  },
  {
   "cell_type": "code",
   "execution_count": null,
   "metadata": {
    "tags": []
   },
   "outputs": [],
   "source": [
    "x, y = np.genfromtxt('data/example_data_linear.txt', unpack=True)\n",
    "plt.plot(x, y, 'k.')\n",
    "\n",
    "t = np.linspace(0, 10)\n",
    "plt.plot(t, 5 * t, 'r-');"
   ]
  },
  {
   "cell_type": "markdown",
   "metadata": {},
   "source": [
    "## Auslagern in ein Skript\n",
    "Speichert den folgenden Code in eine Textdatei `plot.py` ab.\n",
    "\n",
    "Öffnet ein Terminal und startet das Programm:\n",
    "    \n",
    "    python plot.py"
   ]
  },
  {
   "cell_type": "code",
   "execution_count": null,
   "metadata": {
    "tags": []
   },
   "outputs": [],
   "source": [
    "import matplotlib.pyplot as plt\n",
    "import numpy as np\n",
    "\n",
    "x = np.linspace(0, 1)\n",
    "plt.plot(x, x**2, 'b-')\n",
    "plt.savefig('plot.pdf')"
   ]
  },
  {
   "cell_type": "markdown",
   "metadata": {},
   "source": [
    "Mit `savefig` speichert man die Abbildung.\n",
    "\n",
    "In diesem Fall sollte die Datei `plot.pdf` erstellt worden sein.\n",
    "\n",
    "Es gibt viele Ausgabeformate: `pdf`, `png`, `svg`, LaTeX\n",
    "\n",
    "\n",
    "Um mehrere Plots zu speichern kann man `plt.clf()` verwenden. Der Befehl leert die aktuelle figure und steht für `clear figure`. "
   ]
  },
  {
   "cell_type": "code",
   "execution_count": null,
   "metadata": {
    "tags": []
   },
   "outputs": [],
   "source": [
    "import matplotlib.pyplot as plt\n",
    "import numpy as np\n",
    "\n",
    "x = np.linspace(0, 1)\n",
    "\n",
    "### Plot 1\n",
    "plt.clf()\n",
    "\n",
    "\n",
    "plt.plot(x, x**2, 'b-',label='Plot 1')\n",
    "plt.legend()\n",
    "plt.savefig('plot_1.pdf')\n",
    "\n",
    "### Plot 2\n",
    "plt.clf()\n",
    "\n",
    "plt.plot(x, x**3, 'r-')\n",
    "plt.savefig('plot_2.pdf')\n",
    "\n"
   ]
  },
  {
   "cell_type": "markdown",
   "metadata": {},
   "source": [
    "## Komplexere Abbildungen\n",
    "Natürlich kann man mehrere Linien in einen Plot packen:"
   ]
  },
  {
   "cell_type": "code",
   "execution_count": null,
   "metadata": {
    "tags": []
   },
   "outputs": [],
   "source": [
    "x = np.linspace(0, 1)\n",
    "\n",
    "plt.plot(x, x**2, label=r'$x^2$')\n",
    "plt.plot(x, x**4)\n",
    "plt.plot(x, x**6, 'o', label=r'$x^6$')\n",
    "\n",
    "plt.legend();"
   ]
  },
  {
   "cell_type": "markdown",
   "metadata": {},
   "source": [
    "Es werden nur die Plots in der Legende angezeigt, die ein Label haben."
   ]
  },
  {
   "cell_type": "markdown",
   "metadata": {},
   "source": [
    "Man kann auch mehrere Plots in ein Bild packen:"
   ]
  },
  {
   "cell_type": "code",
   "execution_count": null,
   "metadata": {
    "tags": []
   },
   "outputs": [],
   "source": [
    "x = np.linspace(0, 2 * np.pi)\n",
    "\n",
    "# #rows, #columns, plot index = row * (#cols) + col\n",
    "plt.subplot(2, 1, 1)\n",
    "plt.plot(x, x**2)\n",
    "plt.xlim(0, 2 * np.pi)\n",
    "\n",
    "plt.subplot(2, 1, 2)\n",
    "plt.plot(x, np.sin(x))\n",
    "plt.xlim(0, 2 * np.pi);"
   ]
  },
  {
   "cell_type": "markdown",
   "metadata": {},
   "source": [
    "Dies führt manchmal zu Spacing-Problemen und Teilen die sich überschneiden.\n",
    "\n",
    "![Beispiel](https://matplotlib.org/stable/_images/sphx_glr_tight_layout_guide_003.png)\n",
    "\n",
    "Lösung: `constrained_layout=True`"
   ]
  },
  {
   "cell_type": "code",
   "execution_count": null,
   "metadata": {
    "tags": []
   },
   "outputs": [],
   "source": [
    "x = np.linspace(0, 2 * np.pi)\n",
    "\n",
    "# Anzahl Zeile, Anzahl Spalten, Nummer des Plots\n",
    "plt.figure(constrained_layout=True)\n",
    "\n",
    "plt.subplot(2, 1, 1)\n",
    "plt.plot(x, x**2)\n",
    "plt.xlim(0, 2 * np.pi)\n",
    "plt.title(r\"$f(x)=x^2$\")\n",
    "\n",
    "plt.subplot(2, 1, 2)\n",
    "plt.plot(x, np.sin(x))\n",
    "plt.xlim(0, 2 * np.pi)\n",
    "plt.title(r\"$f(x)=\\sin(x)$\");"
   ]
  },
  {
   "cell_type": "markdown",
   "metadata": {},
   "source": [
    "Plot im Plot:"
   ]
  },
  {
   "cell_type": "code",
   "execution_count": null,
   "metadata": {
    "tags": []
   },
   "outputs": [],
   "source": [
    "x = np.linspace(0, 10)\n",
    "\n",
    "plt.plot(x, x**2)\n",
    "\n",
    "# Koordinaten relativ zum Plot (0,0) links unten (1,1) rechts oben\n",
    "# [x-location, y-location, x-length, y-length]\n",
    "plt.axes([0.2, 0.45, 0.3, 0.3]) \n",
    "\n",
    "plt.plot(x, x**3);"
   ]
  },
  {
   "cell_type": "markdown",
   "metadata": {},
   "source": [
    "## Plots mit Fehlerbalken\n",
    "Sehr häufig werden im Praktikum Plots mit Fehlerbalken benötigt, hier erzeugen wir einfach zufällige Fehlerbalken:"
   ]
  },
  {
   "cell_type": "code",
   "execution_count": null,
   "metadata": {},
   "outputs": [],
   "source": [
    "x = np.linspace(0, 2 * np.pi, 10)\n",
    "errX = 0.4 * np.random.standard_normal(len(x))\n",
    "errY = 0.4 * np.random.standard_normal(len(x))\n",
    "\n",
    "plt.errorbar(x + errX, x + errY, xerr=errX, yerr=errY, fmt='o');"
   ]
  },
  {
   "cell_type": "markdown",
   "metadata": {},
   "source": [
    "## Achsen-Skalierung\n",
    "Logarithmische (oder auch andere) Skalierung der Achsen ist auch möglich:"
   ]
  },
  {
   "cell_type": "code",
   "execution_count": null,
   "metadata": {
    "tags": []
   },
   "outputs": [],
   "source": [
    "x = np.linspace(0, 10)\n",
    "\n",
    "plt.plot(x, np.exp(-x))\n",
    "plt.yscale('log');\n",
    "#plt.xscale('log')"
   ]
  },
  {
   "cell_type": "markdown",
   "metadata": {},
   "source": [
    "## Polar-Plot\n",
    "Manchmal braucht man einen Polarplot:"
   ]
  },
  {
   "cell_type": "code",
   "execution_count": null,
   "metadata": {},
   "outputs": [],
   "source": [
    "#r = np.linspace(0, 10, 1000)\n",
    "r = np.linspace(0, 10, 50)\n",
    "theta = 2 * np.pi * r\n",
    "\n",
    "plt.polar(theta, r);"
   ]
  },
  {
   "cell_type": "markdown",
   "metadata": {},
   "source": [
    "# Ticks\n",
    "Man kann sehr viele Sachen mit Ticks machen…"
   ]
  },
  {
   "cell_type": "code",
   "execution_count": null,
   "metadata": {},
   "outputs": [],
   "source": [
    "x = np.linspace(0, 2 * np.pi)\n",
    "\n",
    "plt.plot(x, np.sin(x))\n",
    "plt.xlim(0, 2 * np.pi)\n",
    "# erste Liste: Tick-Positionen, zweite Liste: Tick-Beschriftung\n",
    "plt.xticks([0, np.pi / 2, np.pi, 3 * np.pi / 2, 2 * np.pi],\n",
    "           [r\"$0$\", r\"$\\frac{1}{4}\\tau$\", r\"$\\frac{1}{2}\\tau$\", r\"$\\frac{3}{4}\\tau$\", r\"$\\tau$\"])\n",
    "plt.title(r\"$\\tau$ FTW!\");"
   ]
  },
  {
   "cell_type": "code",
   "execution_count": null,
   "metadata": {
    "tags": []
   },
   "outputs": [],
   "source": [
    "months = ['Januar',\n",
    "          'Februar',\n",
    "          'März',\n",
    "          'April',\n",
    "          'Mai',\n",
    "          'Juni',\n",
    "          'Juli',\n",
    "          'August',\n",
    "          'September',\n",
    "          'Oktober',\n",
    "          'November',\n",
    "          'Dezember']\n",
    "\n",
    "plt.plot(np.arange(12), np.random.random(12))\n",
    "plt.xticks(np.arange(12), months, rotation=45, rotation_mode='anchor', ha='right', va='top')\n",
    "plt.xlim(0, 11);"
   ]
  },
  {
   "cell_type": "markdown",
   "metadata": {},
   "source": [
    "# Histogramme\n",
    "Sehr häufig braucht man Histogramme."
   ]
  },
  {
   "cell_type": "code",
   "execution_count": null,
   "metadata": {
    "tags": []
   },
   "outputs": [],
   "source": [
    "# Zufallsdaten generieren:\n",
    "x = np.random.normal(0, 1, 1000)\n",
    "plt.hist(x, bins=20);\n",
    "# try histtype='stepfilled'"
   ]
  },
  {
   "cell_type": "markdown",
   "metadata": {},
   "source": [
    "# Objektorientiertes Plotten\n",
    "Bis jetzt haben wir die schnelle Variante mit der `pyplot`-Syntax benutzt. Wenn man viele Plots anlegt, ist der objekt-orientierte Ansatz für matplotlib besser geeignet."
   ]
  },
  {
   "cell_type": "code",
   "execution_count": null,
   "metadata": {
    "tags": []
   },
   "outputs": [],
   "source": [
    "import matplotlib.pyplot as plt\n",
    "import numpy as np\n",
    "\n",
    "t = np.linspace(0, 2*np.pi, 1000)\n",
    "\n",
    "fig, (ax1, ax2) = plt.subplots(2, 1, constrained_layout=True)\n",
    "\n",
    "ax1.plot(t, np.sin(t), 'r-')\n",
    "ax1.set_title(r\"$f(t)=\\sin(t)$\")\n",
    "ax1.set_xlabel(\"$t$\")\n",
    "ax1.set_xlim(0, 2 * np.pi)\n",
    "ax1.set_ylim(-1.1, 1.1)\n",
    "\n",
    "ax2.plot(t, np.cos(t), 'b-')\n",
    "ax2.set_title(r\"$f(t)=\\cos(t)$\")\n",
    "ax2.set_xlabel(\"$t$\")\n",
    "ax2.set_xlim(0, 2 * np.pi)\n",
    "ax2.set_ylim(-1.1, 1.1);"
   ]
  },
  {
   "cell_type": "markdown",
   "metadata": {},
   "source": [
    "# 3D Plots"
   ]
  },
  {
   "cell_type": "code",
   "execution_count": null,
   "metadata": {},
   "outputs": [],
   "source": [
    "from mpl_toolkits.mplot3d import Axes3D\n",
    "\n",
    "fig = plt.figure()\n",
    "ax = fig.add_subplot(projection='3d')\n",
    "\n",
    "theta = np.linspace(-4 * np.pi, 4 * np.pi, 200)\n",
    "z = np.linspace(-2, 2, 200)\n",
    "\n",
    "r = z**2 + 1\n",
    "x = r * np.sin(theta)\n",
    "y = r * np.cos(theta)\n",
    "\n",
    "ax.plot(x, y, z, label='parametric curve')\n",
    "ax.legend();"
   ]
  },
  {
   "cell_type": "markdown",
   "metadata": {},
   "source": [
    "Weitere Beispiele zum 3dim Plotten findet ihr hier:\n",
    "\n",
    "https://matplotlib.org/mpl_toolkits/mplot3d/tutorial.html"
   ]
  },
  {
   "cell_type": "markdown",
   "metadata": {},
   "source": [
    "# LaTeX\n",
    "Es ist auch möglich LaTeX für das Setzen aller Plot-Beschriftungen (d.h. Achsenbeschriftungen, Ticks, Legenden, usw.) zu verwenden. Seht Euch dazu die \"TeX in matplotlib\" Folien an."
   ]
  }
 ],
 "metadata": {
  "anaconda-cloud": {},
  "kernelspec": {
   "display_name": "Python 3 (ipykernel)",
   "language": "python",
   "name": "python3"
  },
  "language_info": {
   "codemirror_mode": {
    "name": "ipython",
    "version": 3
   },
   "file_extension": ".py",
   "mimetype": "text/x-python",
   "name": "python",
   "nbconvert_exporter": "python",
   "pygments_lexer": "ipython3",
   "version": "3.10.4"
  }
 },
 "nbformat": 4,
 "nbformat_minor": 4
}
