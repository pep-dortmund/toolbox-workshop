{
 "cells": [
  {
   "cell_type": "markdown",
   "metadata": {},
   "source": [
    "![Python](https://www.python.org/static/community_logos/python-logo-generic.svg)\n",
    "\n",
    "- Aktuelle Version: Python 3.8\n",
    "- *Interpretierte* Programmiersprache\n",
    " - Kein Kompilieren\n",
    " - Programme werden mit dem `python`-Programm ausgeführt\n",
    "- Eignet sich sehr gut zum Erlernen der Programmierung!\n",
    "- Viele nützliche Pakete, die das wissenschaftliche Arbeiten extrem erleichtern!\n",
    "\n",
    "Hier soll es hingehen: Auswertung von Praktikumsversuchen:\n",
    "\n",
    "![Plot](build/muon_plot.png)\n",
    "\n",
    "Versuch aus dem Fortgeschrittenen-Praktikum: Lebensdauer kosmischer Myonen"
   ]
  },
  {
   "cell_type": "code",
   "execution_count": null,
   "metadata": {},
   "outputs": [],
   "source": [
    "%%javascript\n",
    "$.getScript('https://kmahelona.github.io/ipython_notebook_goodies/ipython_notebook_toc.js')"
   ]
  },
  {
   "cell_type": "markdown",
   "metadata": {},
   "source": [
    "# Inhalt\n",
    "\n",
    "<div id=\"toc\"></div>"
   ]
  },
  {
   "cell_type": "markdown",
   "metadata": {},
   "source": [
    "# Grundlagen\n",
    "\n",
    "Eine Programmiersprache wie Python lässt sich nicht an einem Tag lernen.\n",
    "\n",
    "Hier geben wir einen kurzen Überblick über die wichtigsten Konzepte.\n",
    "\n",
    "Keine Angst: Zum Erstellen von Plots und für einfache Auswertungen muss man nicht viel Python können!\n",
    "\n",
    "Die folgenden Beispiele kann man auf der Kommandozeile durch ausführen von\n",
    "```\n",
    "ipython\n",
    "```\n",
    "ausprobieren."
   ]
  },
  {
   "cell_type": "markdown",
   "metadata": {},
   "source": [
    "## Einfachstes Beispiel"
   ]
  },
  {
   "cell_type": "code",
   "execution_count": null,
   "metadata": {},
   "outputs": [],
   "source": [
    "print('Hello, World!')"
   ]
  },
  {
   "cell_type": "markdown",
   "metadata": {},
   "source": [
    "## Kommentare\n",
    "\n",
    "* Sehr wichtig für die Leute, die mit euch Arbeiten\n",
    "* Auch für euch selbst zwei Wochen später\n",
    "\n",
    "Alles was in Python hinter einem `#` steht, wird nicht als Code betrachtet und dient als Kommentar."
   ]
  },
  {
   "cell_type": "code",
   "execution_count": null,
   "metadata": {},
   "outputs": [],
   "source": [
    "# This prints the traditional greeting to the console\n",
    "print(\"Hello, World!\")"
   ]
  },
  {
   "cell_type": "markdown",
   "metadata": {},
   "source": [
    "Kommentare sollten nicht erklären, was der Code tut, sondern warum.\n",
    "\n",
    "Kommentare, wie jeder andere Code, sollten auf englisch sein."
   ]
  },
  {
   "cell_type": "markdown",
   "metadata": {},
   "source": [
    "## Variablen\n",
    "\n",
    "Man kann einem Objekt einen Namen geben:"
   ]
  },
  {
   "cell_type": "code",
   "execution_count": null,
   "metadata": {},
   "outputs": [],
   "source": [
    "a = 2\n",
    "b = 3"
   ]
  },
  {
   "cell_type": "markdown",
   "metadata": {},
   "source": [
    "Variablennamen können auch überschrieben werden:"
   ]
  },
  {
   "cell_type": "code",
   "execution_count": null,
   "metadata": {},
   "outputs": [],
   "source": [
    "a = 42\n",
    "b = a\n",
    "\n",
    "a = 0\n",
    "b"
   ]
  },
  {
   "cell_type": "markdown",
   "metadata": {},
   "source": [
    "* Namen verweisen auf Objekte\n",
    "* Mehrere Namen können auf das gleiche Objekt zeigen"
   ]
  },
  {
   "cell_type": "markdown",
   "metadata": {},
   "source": [
    "# Datentypen\n",
    "\n",
    "## Einfache Datentypen"
   ]
  },
  {
   "cell_type": "markdown",
   "metadata": {},
   "source": [
    "### Booleans\n",
    "\n",
    "`True` und `False`\n",
    "\n",
    "Logische Operatoren: `and`, `or`, `not`"
   ]
  },
  {
   "cell_type": "code",
   "execution_count": null,
   "metadata": {},
   "outputs": [],
   "source": [
    "True and False"
   ]
  },
  {
   "cell_type": "code",
   "execution_count": null,
   "metadata": {},
   "outputs": [],
   "source": [
    "True or False"
   ]
  },
  {
   "cell_type": "code",
   "execution_count": null,
   "metadata": {},
   "outputs": [],
   "source": [
    "not True"
   ]
  },
  {
   "cell_type": "markdown",
   "metadata": {},
   "source": [
    "`None` oder leere Objekte verhalten sich wie `False`, andere wie `True`"
   ]
  },
  {
   "cell_type": "code",
   "execution_count": null,
   "metadata": {},
   "outputs": [],
   "source": [
    "'' or True"
   ]
  },
  {
   "cell_type": "code",
   "execution_count": null,
   "metadata": {},
   "outputs": [],
   "source": [
    "'Hallo' and True"
   ]
  },
  {
   "cell_type": "markdown",
   "metadata": {},
   "source": [
    "### Zahlen\n",
    "\n",
    "Ganze Zahlen: `42`  \n",
    "Kommazahlen: `3.14`  \n",
    "Komplexe Zahlen: `3 + 2j`\n",
    "\n",
    "Rechenoperatoren:\n",
    "\n",
    "- `+`, `-`, `*` \n",
    "- `**` (Potenzieren: `2**3` → `8`)\n",
    "- `/` (`3 / 2` → `1.5`)\n",
    "- `//` (Ganzzahldivision: `3 // 2` → `1`)\n",
    "- `%` (Modulo-Operation, Divisionsrest: `7 % 4` → `3`)"
   ]
  },
  {
   "cell_type": "code",
   "execution_count": null,
   "metadata": {},
   "outputs": [],
   "source": [
    "x = 5\n",
    "y = 3\n",
    "x + y"
   ]
  },
  {
   "cell_type": "markdown",
   "metadata": {},
   "source": [
    "Rechenoperationen können geklammert werden"
   ]
  },
  {
   "cell_type": "code",
   "execution_count": null,
   "metadata": {},
   "outputs": [],
   "source": [
    "a = 2 + 4 / 5 + 1\n",
    "b = (2 + 4) / 5 + 1\n",
    "c = (2 + 4) / (5 + 1)"
   ]
  },
  {
   "cell_type": "code",
   "execution_count": null,
   "metadata": {},
   "outputs": [],
   "source": [
    "print(a, b, c)"
   ]
  },
  {
   "cell_type": "code",
   "execution_count": null,
   "metadata": {},
   "outputs": [],
   "source": [
    "a = 3 + 2j\n",
    "b = 1 + 1j\n",
    "\n",
    "print(a + b, a*b, abs(b))"
   ]
  },
  {
   "cell_type": "markdown",
   "metadata": {},
   "source": [
    "Vergleichsoperatoren geben `True` oder `False` zurück\n",
    "\n",
    "- `==`, `!=`\n",
    "- `>`, `<`, `>=`, `<=`"
   ]
  },
  {
   "cell_type": "code",
   "execution_count": null,
   "metadata": {},
   "outputs": [],
   "source": [
    "x = 5\n",
    "y = 3\n",
    "x < y"
   ]
  },
  {
   "cell_type": "markdown",
   "metadata": {},
   "source": [
    "Mehrere Vergleichsoperatoren können in einem Ausdruck stehen:"
   ]
  },
  {
   "cell_type": "code",
   "execution_count": null,
   "metadata": {},
   "outputs": [],
   "source": [
    "a = 3.8 \n",
    "b = 2.2 \n",
    "c = 1\n",
    "c < b < a"
   ]
  },
  {
   "cell_type": "code",
   "execution_count": null,
   "metadata": {},
   "outputs": [],
   "source": [
    "c < a < b"
   ]
  },
  {
   "cell_type": "markdown",
   "metadata": {},
   "source": [
    "### Strings\n",
    "\n",
    "Stehen in `'` oder `\"`. (Für eins entscheiden)"
   ]
  },
  {
   "cell_type": "code",
   "execution_count": null,
   "metadata": {},
   "outputs": [],
   "source": [
    "foo = 'foo'\n",
    "bar = \"bar\""
   ]
  },
  {
   "cell_type": "markdown",
   "metadata": {},
   "source": [
    "Strings können mit `+` konkateniert werden:"
   ]
  },
  {
   "cell_type": "code",
   "execution_count": null,
   "metadata": {},
   "outputs": [],
   "source": [
    "foo + \" \" + bar"
   ]
  },
  {
   "cell_type": "markdown",
   "metadata": {},
   "source": [
    "Strings können mit `*` vervielfacht werden"
   ]
  },
  {
   "cell_type": "code",
   "execution_count": null,
   "metadata": {},
   "outputs": [],
   "source": [
    "foo * 4"
   ]
  },
  {
   "cell_type": "markdown",
   "metadata": {},
   "source": [
    "Strings können mit `[]` indiziert werden"
   ]
  },
  {
   "cell_type": "code",
   "execution_count": null,
   "metadata": {},
   "outputs": [],
   "source": [
    "foo[0]"
   ]
  },
  {
   "cell_type": "markdown",
   "metadata": {},
   "source": [
    "Können beliebige Unicode Symbole enthalten"
   ]
  },
  {
   "cell_type": "code",
   "execution_count": null,
   "metadata": {},
   "outputs": [],
   "source": [
    "print('π ist genau 3, Erwin Schrödinger')"
   ]
  },
  {
   "cell_type": "markdown",
   "metadata": {},
   "source": [
    "### None\n",
    "\n",
    "Stellt das Fehlen eines Wertes dar.\n",
    "\n",
    "Wird häufig für Standardwerte von Funktionen verwendet."
   ]
  },
  {
   "cell_type": "code",
   "execution_count": null,
   "metadata": {},
   "outputs": [],
   "source": [
    "print(None)"
   ]
  },
  {
   "cell_type": "markdown",
   "metadata": {},
   "source": [
    "Funktionen, die 'nichts' zurückgeben, geben `None` zurück:"
   ]
  },
  {
   "cell_type": "code",
   "execution_count": null,
   "metadata": {},
   "outputs": [],
   "source": [
    "print('test')"
   ]
  },
  {
   "cell_type": "code",
   "execution_count": null,
   "metadata": {},
   "outputs": [],
   "source": [
    "a = print('test')"
   ]
  },
  {
   "cell_type": "code",
   "execution_count": null,
   "metadata": {},
   "outputs": [],
   "source": [
    "print(a)"
   ]
  },
  {
   "cell_type": "markdown",
   "metadata": {},
   "source": [
    "## Sammlungen (Collections)\n",
    "\n",
    "Speichern mehrere Objekte\n",
    "\n",
    "### Listen\n",
    "\n",
    "* Veränderbar\n",
    "* Gedacht für mehrere Werte vom selben Typ"
   ]
  },
  {
   "cell_type": "code",
   "execution_count": null,
   "metadata": {},
   "outputs": [],
   "source": [
    "names = ['foo', 'bar']"
   ]
  },
  {
   "cell_type": "markdown",
   "metadata": {},
   "source": [
    "Listen können mit `[]` indiziert werdern"
   ]
  },
  {
   "cell_type": "code",
   "execution_count": null,
   "metadata": {},
   "outputs": [],
   "source": [
    "names[1]"
   ]
  },
  {
   "cell_type": "markdown",
   "metadata": {},
   "source": [
    "Man kann Werte an Listen anhängen:"
   ]
  },
  {
   "cell_type": "code",
   "execution_count": null,
   "metadata": {},
   "outputs": [],
   "source": [
    "names.append('baz')\n",
    "names"
   ]
  },
  {
   "cell_type": "markdown",
   "metadata": {},
   "source": [
    "Negative Indizes (beginnend mit `-1`), indizieren die Liste rückwärts"
   ]
  },
  {
   "cell_type": "code",
   "execution_count": null,
   "metadata": {},
   "outputs": [],
   "source": [
    "names[-1]"
   ]
  },
  {
   "cell_type": "markdown",
   "metadata": {},
   "source": [
    "Man kann auch Teillisten indizieren.  \n",
    "`names[Anfang:Ende]` liefert eine Teilliste mit den Werten von `names[Anfang]` bis `names[Ende-1]`:"
   ]
  },
  {
   "cell_type": "code",
   "execution_count": null,
   "metadata": {},
   "outputs": [],
   "source": [
    "names[1:3]"
   ]
  },
  {
   "cell_type": "markdown",
   "metadata": {},
   "source": [
    "Listen werden mit `+` zusammengeführt:"
   ]
  },
  {
   "cell_type": "code",
   "execution_count": null,
   "metadata": {},
   "outputs": [],
   "source": [
    "names + ['thing']"
   ]
  },
  {
   "cell_type": "markdown",
   "metadata": {},
   "source": [
    "Listen können mit `*` vervielfacht werden:"
   ]
  },
  {
   "cell_type": "code",
   "execution_count": null,
   "metadata": {},
   "outputs": [],
   "source": [
    "names * 3"
   ]
  },
  {
   "cell_type": "markdown",
   "metadata": {},
   "source": [
    "Die Liste kann auch erweitert werden:"
   ]
  },
  {
   "cell_type": "code",
   "execution_count": null,
   "metadata": {},
   "outputs": [],
   "source": [
    "names.extend(['quux'])\n",
    "names"
   ]
  },
  {
   "cell_type": "markdown",
   "metadata": {},
   "source": [
    "Listen sind veränderbar, man kann ihnen Werte zuweisen:"
   ]
  },
  {
   "cell_type": "code",
   "execution_count": null,
   "metadata": {},
   "outputs": [],
   "source": [
    "names[1] = 'new'\n",
    "names"
   ]
  },
  {
   "cell_type": "markdown",
   "metadata": {},
   "source": [
    "Mit `in` wird überprüft ob ein Wert in der Liste ist:"
   ]
  },
  {
   "cell_type": "code",
   "execution_count": null,
   "metadata": {},
   "outputs": [],
   "source": [
    "weekdays = ['Mo', 'Di', 'Mi', 'Do', 'Fr', 'Sa', 'So']\n",
    "'Mo' in weekdays"
   ]
  },
  {
   "cell_type": "markdown",
   "metadata": {},
   "source": [
    "### Tupel\n",
    "\n",
    "* Gedacht für Werte mit unterschiedlichen Typen\n",
    "* Werden an allen möglichen Stellen von python erzeugt"
   ]
  },
  {
   "cell_type": "code",
   "execution_count": null,
   "metadata": {},
   "outputs": [],
   "source": [
    "tup = (5, 3)\n",
    "tup"
   ]
  },
  {
   "cell_type": "markdown",
   "metadata": {},
   "source": [
    "Können wahlweise auch ohne Klammern geschrieben werden (wenn es eindeutig ist)."
   ]
  },
  {
   "cell_type": "code",
   "execution_count": null,
   "metadata": {},
   "outputs": [],
   "source": [
    "tup = 5, 3\n",
    "tup"
   ]
  },
  {
   "cell_type": "code",
   "execution_count": null,
   "metadata": {},
   "outputs": [],
   "source": [
    "a = 5\n",
    "b = 3\n",
    "a, b = b, a"
   ]
  },
  {
   "cell_type": "code",
   "execution_count": null,
   "metadata": {},
   "outputs": [],
   "source": [
    "print(\"a =\", a)\n",
    "print(\"b =\", b)"
   ]
  },
  {
   "cell_type": "code",
   "execution_count": null,
   "metadata": {},
   "outputs": [],
   "source": [
    "tup[0]"
   ]
  },
  {
   "cell_type": "markdown",
   "metadata": {},
   "source": [
    "Einträge nach Erzeugung unveränderbar:"
   ]
  },
  {
   "cell_type": "code",
   "execution_count": null,
   "metadata": {},
   "outputs": [],
   "source": [
    "tup[1] = 7"
   ]
  },
  {
   "cell_type": "markdown",
   "metadata": {},
   "source": [
    "### Dictionaries"
   ]
  },
  {
   "cell_type": "code",
   "execution_count": null,
   "metadata": {},
   "outputs": [],
   "source": [
    "numbers = { 'one': 1, 'two': 2, 'three': 3 }"
   ]
  },
  {
   "cell_type": "code",
   "execution_count": null,
   "metadata": {},
   "outputs": [],
   "source": [
    "numbers['two']"
   ]
  },
  {
   "cell_type": "markdown",
   "metadata": {},
   "source": [
    "Dictionaries sind extrem hilfreich, zum Beispiel um die verschiedene Datensätze der gleichen Messung\n",
    "zusammenzufassen. So wird es einfacher dieselbe Analyse auf die einzelnen Datensätze anzuwenden."
   ]
  },
  {
   "cell_type": "code",
   "execution_count": null,
   "metadata": {},
   "outputs": [],
   "source": [
    "data = {'Cu': [1.1, 1.2, 1.3, 1.4], 'Fe': [0.7, 0.8, 0.9, 1.0]}\n",
    "data['Cu']"
   ]
  },
  {
   "cell_type": "markdown",
   "metadata": {},
   "source": [
    "Leere Dictionaries werden z.B. mit der Funktion `dict()`erstellt"
   ]
  },
  {
   "cell_type": "code",
   "execution_count": null,
   "metadata": {},
   "outputs": [],
   "source": [
    "data = dict()\n",
    "data"
   ]
  },
  {
   "cell_type": "code",
   "execution_count": null,
   "metadata": {},
   "outputs": [],
   "source": [
    "data[\"Fe\"] = [1.1, 1.2, 1.3, 1.4]\n",
    "data"
   ]
  },
  {
   "cell_type": "code",
   "execution_count": null,
   "metadata": {},
   "outputs": [],
   "source": [
    "data[\"Cu\"] = [0.7, 0.8, 0.9, 1.0]\n",
    "data"
   ]
  },
  {
   "cell_type": "code",
   "execution_count": null,
   "metadata": {},
   "outputs": [],
   "source": [
    "data[\"Au\"] = [0.2, 0.3, 0.1, 0.5]\n",
    "data"
   ]
  },
  {
   "cell_type": "markdown",
   "metadata": {},
   "source": [
    "# Kontrollstrukturen\n",
    "\n",
    "Die Zeilen eines Python-Programms werden nacheinander ausgeführt.\n",
    "\n",
    "Sogennante *Kontrollstrukturen* erlauben es, den Ablauf zu steuern.\n",
    "\n",
    "## `if` / `elif` / `else`"
   ]
  },
  {
   "cell_type": "code",
   "execution_count": null,
   "metadata": {},
   "outputs": [],
   "source": [
    "a = 3\n",
    "\n",
    "if a == 1:\n",
    "    # muss eingerückt werden, 4 spaces:\n",
    "    print('foo')\n",
    "elif a == 2:\n",
    "    print('bar')\n",
    "else:\n",
    "    print('baz')"
   ]
  },
  {
   "cell_type": "markdown",
   "metadata": {},
   "source": [
    "## `while`\n",
    "\n",
    "Wiederholen, solange eine Bedingung erfüllt ist."
   ]
  },
  {
   "cell_type": "code",
   "execution_count": null,
   "metadata": {},
   "outputs": [],
   "source": [
    "i = 0\n",
    "while i < 5:\n",
    "    print(i)\n",
    "    i += 1\n",
    "\n",
    "# there has to be a better way!"
   ]
  },
  {
   "cell_type": "markdown",
   "metadata": {},
   "source": [
    "\n",
    "## `for`\n",
    "\n",
    "Wiederholen für jedes Elements (z.B. einer Liste)"
   ]
  },
  {
   "cell_type": "code",
   "execution_count": null,
   "metadata": {},
   "outputs": [],
   "source": [
    "data = [10, 42, -1]\n",
    "\n",
    "for x in data:\n",
    "    # Wir können auf das jetzige Element als \"x\" zugreifen\n",
    "    print(2 * x)"
   ]
  },
  {
   "cell_type": "markdown",
   "metadata": {},
   "source": [
    "klassische for-Schleife mit `range`:"
   ]
  },
  {
   "cell_type": "code",
   "execution_count": null,
   "metadata": {},
   "outputs": [],
   "source": [
    "for i in range(5):\n",
    "    print(i)"
   ]
  },
  {
   "cell_type": "code",
   "execution_count": null,
   "metadata": {},
   "outputs": [],
   "source": [
    "for i in range(2, 5):\n",
    "    print(i)"
   ]
  },
  {
   "cell_type": "code",
   "execution_count": null,
   "metadata": {},
   "outputs": [],
   "source": [
    "for i in range(2, 10, 2):\n",
    "    print(i)"
   ]
  },
  {
   "cell_type": "code",
   "execution_count": null,
   "metadata": {},
   "outputs": [],
   "source": [
    "for i in range(10, 3, -1):\n",
    "    print(i)"
   ]
  },
  {
   "cell_type": "code",
   "execution_count": null,
   "metadata": {},
   "outputs": [],
   "source": [
    "weekdays = ['Mo', 'Di', 'Mi', 'Do', 'Fr', 'Sa', 'So']\n",
    "for day in weekdays:\n",
    "    print(\"Heute ist\", day)"
   ]
  },
  {
   "cell_type": "markdown",
   "metadata": {},
   "source": [
    "Zwei sehr nützliche Funktionen sind `enumerate` und ` zip`"
   ]
  },
  {
   "cell_type": "code",
   "execution_count": null,
   "metadata": {},
   "outputs": [],
   "source": [
    "for i, day in enumerate(weekdays):\n",
    "    print(day, \" ist der \", i+1, \". Tag der Woche\", sep=\"\")"
   ]
  },
  {
   "cell_type": "markdown",
   "metadata": {},
   "source": [
    "Was `enumerate()` macht:"
   ]
  },
  {
   "cell_type": "code",
   "execution_count": null,
   "metadata": {},
   "outputs": [],
   "source": [
    "list(enumerate(weekdays))"
   ]
  },
  {
   "cell_type": "code",
   "execution_count": null,
   "metadata": {},
   "outputs": [],
   "source": [
    "voltages = [1, 3, 5]\n",
    "currents = [1, 5, 1]\n",
    "\n",
    "for voltage, current in zip(voltages, currents):\n",
    "    print('R =', voltage / current)"
   ]
  },
  {
   "cell_type": "markdown",
   "metadata": {},
   "source": [
    "Was `zip()` macht:"
   ]
  },
  {
   "cell_type": "code",
   "execution_count": null,
   "metadata": {},
   "outputs": [],
   "source": [
    "list(zip(voltages, currents))"
   ]
  },
  {
   "cell_type": "markdown",
   "metadata": {},
   "source": [
    "Iterieren über die Einträge von `dict`"
   ]
  },
  {
   "cell_type": "code",
   "execution_count": null,
   "metadata": {},
   "outputs": [],
   "source": [
    "translations = {\n",
    "    'foot': 'Fuß',\n",
    "    'ball': 'Ball',\n",
    "    'goal': 'Tor',\n",
    "}\n",
    "\n",
    "for e, g in translations.items():\n",
    "    print(e, g)"
   ]
  },
  {
   "cell_type": "markdown",
   "metadata": {},
   "source": [
    "# Funktionen\n",
    "\n"
   ]
  },
  {
   "cell_type": "markdown",
   "metadata": {},
   "source": [
    "Mit Funktionen lässt sich Code leicht wiederverwenden.\n",
    "Eine Funktion nimmt Parameter, verarbeitet sie und gibt Ergebnisse zurück."
   ]
  },
  {
   "cell_type": "code",
   "execution_count": null,
   "metadata": {},
   "outputs": [],
   "source": [
    "print('Hello!')"
   ]
  },
  {
   "cell_type": "code",
   "execution_count": null,
   "metadata": {},
   "outputs": [],
   "source": [
    "len([1, 2, 3, 4, 5])"
   ]
  },
  {
   "cell_type": "markdown",
   "metadata": {},
   "source": [
    "Viele Funktionen haben mehrere Parameter, einige können sogar beliebig viele haben:"
   ]
  },
  {
   "cell_type": "code",
   "execution_count": null,
   "metadata": {},
   "outputs": [],
   "source": [
    "print(1, 2, 3, 4, 5)"
   ]
  },
  {
   "cell_type": "markdown",
   "metadata": {},
   "source": [
    "Viele Funktionen haben optionale Parameter mit eigenem Namen, sogenannte \"keyword arguments\":"
   ]
  },
  {
   "cell_type": "code",
   "execution_count": null,
   "metadata": {},
   "outputs": [],
   "source": [
    "print(1, 2, 3, 4, 5, sep=', ')"
   ]
  },
  {
   "cell_type": "markdown",
   "metadata": {},
   "source": [
    "Objekte haben auch Funktionen (diese nennt man Methoden):"
   ]
  },
  {
   "cell_type": "code",
   "execution_count": null,
   "metadata": {},
   "outputs": [],
   "source": [
    "s = 'test'\n",
    "s.upper()"
   ]
  },
  {
   "cell_type": "code",
   "execution_count": null,
   "metadata": {},
   "outputs": [],
   "source": [
    "'foo bar baz'.split()"
   ]
  },
  {
   "cell_type": "markdown",
   "metadata": {},
   "source": [
    "In IPython kann man wie folgt auf die Dokumentation einer Funktion zugreifen:"
   ]
  },
  {
   "cell_type": "code",
   "execution_count": null,
   "metadata": {},
   "outputs": [],
   "source": [
    "print?"
   ]
  },
  {
   "cell_type": "markdown",
   "metadata": {},
   "source": [
    "Ansonsten findet man ausführliche Erklärungen in der offiziellen Dokumentation."
   ]
  },
  {
   "cell_type": "markdown",
   "metadata": {},
   "source": [
    "## Eigene Funktionen definieren mit `def`\n",
    "\n",
    "Um mehrfach benötigten Code einfacher zu nutzen, können Funktionen definiert werden.\n",
    "\n",
    "Vorteile:\n",
    "* Weniger Code\n",
    "* Änderungen nur an einer Stelle notwending"
   ]
  },
  {
   "cell_type": "code",
   "execution_count": null,
   "metadata": {},
   "outputs": [],
   "source": [
    "def add(x, y):\n",
    "    z = x + y\n",
    "    return z\n",
    "\n",
    "add(2, 2)"
   ]
  },
  {
   "cell_type": "markdown",
   "metadata": {},
   "source": [
    "Mit dem `return` Statement wird die Funktion beendet und Ergebnisse zurückgeben.\n",
    "\n",
    "Es können auch mehrere Werte zurückgeben werden:"
   ]
  },
  {
   "cell_type": "code",
   "execution_count": null,
   "metadata": {},
   "outputs": [],
   "source": [
    "def divide(x, y):\n",
    "    return x // y, x % y\n",
    "\n",
    "n, rest = divide(5, 3)\n",
    "n, rest"
   ]
  },
  {
   "cell_type": "markdown",
   "metadata": {},
   "source": [
    "Funktionen können sich selbst aufrufen (Rekursion)"
   ]
  },
  {
   "cell_type": "code",
   "execution_count": null,
   "metadata": {},
   "outputs": [],
   "source": [
    "def factorial(n):\n",
    "    if n == 0:\n",
    "        return 1\n",
    "    else:\n",
    "        return n * factorial(n - 1)\n",
    "\n",
    "factorial(4)"
   ]
  },
  {
   "cell_type": "markdown",
   "metadata": {},
   "source": [
    "## Module und `import`\n",
    "\n",
    "In Python kann man Code in einzelne Module portionieren.\n",
    "\n",
    "Es stehen bereits unglaublich viele Module für Python zur Verfügung.\n",
    "\n",
    "Gerade für das wissenschaftliche Arbeiten ist eigentlich alles da was gebraucht wird und noch viel mehr.\n",
    "\n",
    "Wird etwas aus einem anderen Modul gebraucht, importiert man es.\n",
    "\n",
    "Zahlreiche Module sind Teil jeder Python Installation, die sogenannte \"standard library\":\n",
    "https://docs.python.org/3/library/\n",
    "\n",
    "Viele weitere Module habt ihr mit Anaconda installiert"
   ]
  },
  {
   "cell_type": "code",
   "execution_count": null,
   "metadata": {},
   "outputs": [],
   "source": [
    "import os\n",
    "\n",
    "os.listdir('.')"
   ]
  },
  {
   "cell_type": "markdown",
   "metadata": {},
   "source": [
    "Für das Importieren einzelner Funktionen gibt es den Befehl:"
   ]
  },
  {
   "cell_type": "code",
   "execution_count": null,
   "metadata": {},
   "outputs": [],
   "source": [
    "from time import sleep\n",
    "\n",
    "print('hello')\n",
    "sleep(1)\n",
    "print('world')"
   ]
  },
  {
   "cell_type": "markdown",
   "metadata": {},
   "source": [
    "Den Modulen können mit `as` neue Namen gegeben werden\n",
    "\n",
    "Viele Module haben Konventionen für den Kurznamen, die ihr verwenden solltet"
   ]
  },
  {
   "cell_type": "code",
   "execution_count": null,
   "metadata": {},
   "outputs": [],
   "source": [
    "import numpy as np\n",
    "\n",
    "np.sum([1, 2]) # siehe numpy Kurs"
   ]
  },
  {
   "cell_type": "markdown",
   "metadata": {},
   "source": [
    "# Auslagern in Python-Dateien\n",
    "\n",
    "\n",
    "- Python-Dateien haben die Endung `.py`\n",
    "- Ausführen mit `python programm.py`\n",
    "- Einzelne Python-Dateien (Endung `.py`) kann man als Module benutzen.   \n",
    "  Liegt eine Datei `test.py` im selben Ordner, so kann der Inhalt mit `import test` in einer weiteren Datei verwendet werden.\n",
    "- Die Datei muss mit dem Encoding UTF-8 abgespeichert werden. (Standard in modernen Editoren / Betriebssystemen)  \n",
    "  \n",
    "\n",
    "Es folgt ein fertiges Python-Programm.\n",
    "\n",
    "Speichert es als `primes.py` ab und startet es aus dem Terminal mit `python primes.py`."
   ]
  },
  {
   "cell_type": "code",
   "execution_count": null,
   "metadata": {},
   "outputs": [],
   "source": [
    "def primes(max_num):\n",
    "    # Only primes smaller than max_num are calculated\n",
    "    is_prime = max_num * [True]\n",
    "    is_prime[0] = False\n",
    "    is_prime[1] = False\n",
    "\n",
    "    primes = []\n",
    "\n",
    "    # Sieve of Erathosthenes:\n",
    "    for i in range(2, max_num):\n",
    "        if is_prime[i]:\n",
    "            for j in range(2 * i, max_num, i):\n",
    "                # Multiples are not primes\n",
    "                is_prime[j] = False\n",
    "            primes.append(i)\n",
    "    \n",
    "    return primes\n",
    "\n",
    "print(primes(100))"
   ]
  },
  {
   "cell_type": "markdown",
   "metadata": {},
   "source": [
    "# Formatieren von Strings\n",
    "\n",
    "## f-strings\n",
    "\n",
    "https://docs.python.org/3/reference/lexical_analysis.html#f-strings\n",
    "https://docs.python.org/3/library/string.html#formatspec"
   ]
  },
  {
   "cell_type": "markdown",
   "metadata": {},
   "source": [
    "Oft will man Werte oder andere Strings in einen String einsetzen.\n",
    "\n",
    "Seit der Python Version 3.6 gibt es sogenannte *f-strings* (formatted strings)\n",
    "für String-Formatierung:"
   ]
  },
  {
   "cell_type": "code",
   "execution_count": null,
   "metadata": {},
   "outputs": [],
   "source": [
    "U = 42\n",
    "R = 7\n",
    "\n",
    "print(f\"Spannung U = {U}, R = {R}, I = {U / R}\")"
   ]
  },
  {
   "cell_type": "markdown",
   "metadata": {},
   "source": [
    "Der Ausdruck in den `{}`-Markierungen wird ausgewertet und das Ergebnis anstelle der geschweiften Klammern gesetzt.   \n",
    "Variablen ersetzt.   \n",
    "\n",
    "_f-strings_ haben viele fortgeschrittene Funktionen.\n",
    "\n",
    "Beispielsweise kann die gewünschte Genauigkeit für `floats` angeben werden:"
   ]
  },
  {
   "cell_type": "code",
   "execution_count": null,
   "metadata": {},
   "outputs": [],
   "source": [
    "result = 3.2291421\n",
    "\n",
    "print(f'Das Ergebnis ist {result:.2f}')"
   ]
  },
  {
   "cell_type": "markdown",
   "metadata": {},
   "source": [
    "Alle Formateinstellungen werden nach einem Doppelpunkt angegeben.   \n",
    "Für die Genauigkeit sieht die Angabe allgemein so aus: `:.Nf`   \n",
    "`N` ist dabei die gewünschte Anzahl an Nachkommastellen."
   ]
  },
  {
   "cell_type": "markdown",
   "metadata": {},
   "source": [
    "## Sonderzeichen\n",
    "\n",
    "Mit `\\` kann man in Strings besondere Anweisungen setzen:\n",
    "\n",
    " - `'\\n'` -> Zeilenumbruch\n",
    " - `'\\t'` -> Tab\n",
    " - `'\\\\'` -> normales `'\\'`\n",
    "\n",
    "Wenn viele `'\\'` geschrieben werden müssen (z.B. in LaTeX-Code), lohnt es sich diese Funktion mit dem Prefix `r` auszuschalten:"
   ]
  },
  {
   "cell_type": "code",
   "execution_count": null,
   "metadata": {},
   "outputs": [],
   "source": [
    "print(r'\\Huge\\texttt{Python}')"
   ]
  },
  {
   "cell_type": "markdown",
   "metadata": {
    "variables": {
     "</code> oder <code>": "<p><strong>SyntaxError</strong>: invalid syntax (<ipython-input-93-6f695f9390d4>, line 1)</p>\n"
    }
   },
   "source": [
    "Will man `{` oder `}` im Text stehen haben (für LaTeX benötigt) geht das mit doppelten `{{` oder `}}`.\n",
    "\n",
    "LaTeX sieht dann leider so aus: "
   ]
  },
  {
   "cell_type": "code",
   "execution_count": null,
   "metadata": {},
   "outputs": [],
   "source": [
    "energy = 1.23456\n",
    "print(rf'\\qty{{{energy:.4f}}}{{\\kilo\\joule}}')"
   ]
  },
  {
   "cell_type": "markdown",
   "metadata": {},
   "source": [
    "Nur zur Demonstration einmal mit mehr Lücken (funktioniert so nicht in LaTeX wegen den Leerzeichen!):"
   ]
  },
  {
   "cell_type": "code",
   "execution_count": null,
   "metadata": {},
   "outputs": [],
   "source": [
    "print(fr'\\qty {{ {energy:.4f} }} {{ \\kilo\\joule }}')"
   ]
  },
  {
   "cell_type": "markdown",
   "metadata": {},
   "source": [
    "# Comprehensions\n",
    "\n",
    "Sind nützlich, um Listen oder Dictionaries umzuwandeln oder zu erzeugen:"
   ]
  },
  {
   "cell_type": "code",
   "execution_count": null,
   "metadata": {},
   "outputs": [],
   "source": [
    "# Ursprüngliche Liste\n",
    "list(range(5))"
   ]
  },
  {
   "cell_type": "code",
   "execution_count": null,
   "metadata": {},
   "outputs": [],
   "source": [
    "# List-Comprehension\n",
    "[2 * x for x in range(5)]"
   ]
  },
  {
   "cell_type": "code",
   "execution_count": null,
   "metadata": {},
   "outputs": [],
   "source": [
    "# List-Comprehension mit Bedingung\n",
    "[2 * x for x in range(5) if x % 2 == 0]"
   ]
  },
  {
   "cell_type": "code",
   "execution_count": null,
   "metadata": {},
   "outputs": [],
   "source": [
    "# Ursprüngliche Liste\n",
    "weekdays = ['Mo', 'Di', 'Mi', 'Do', 'Fr', 'Sa', 'So']"
   ]
  },
  {
   "cell_type": "code",
   "execution_count": null,
   "metadata": {},
   "outputs": [],
   "source": [
    "# Dict-Comprehension\n",
    "{num + 1: name for num, name in enumerate(weekdays)}"
   ]
  },
  {
   "cell_type": "code",
   "execution_count": null,
   "metadata": {},
   "outputs": [],
   "source": [
    "# Ursprüngliche Listen\n",
    "print(list(range(3)))\n",
    "print(list(range(4)))"
   ]
  },
  {
   "cell_type": "code",
   "execution_count": null,
   "metadata": {},
   "outputs": [],
   "source": [
    "# List-Comprehension mit verschachtelten Schleifen\n",
    "[x + y for y in range(3) for x in range(4)]"
   ]
  },
  {
   "cell_type": "code",
   "execution_count": null,
   "metadata": {},
   "outputs": [],
   "source": [
    "# List-Comprehension mit verschachtelten Schleifen und Bedingung\n",
    "[x + y for y in range(3) for x in range(4) if x % 2 == 0]"
   ]
  },
  {
   "cell_type": "markdown",
   "metadata": {},
   "source": [
    "# Häufig auftretende Fehler\n",
    "\n",
    "Einige Fehler werden zu Anfang sehr häufig gemacht (und immer mal wieder).    \n",
    "Wenn man die Fehlermeldungen richtig zu lesen weiß, kann einem das viel Arbeit/Frust ersparen.   \n",
    "**Das Wichtigste ist: Lest die Fehlermeldung und versucht sie zu verstehen!**"
   ]
  },
  {
   "cell_type": "markdown",
   "metadata": {},
   "source": [
    "## Gerade am Anfang beliebt: `IndentationError`:   \n",
    "Die Fehlermeldung gibt die Zeile an in der Fehler auftritt (hier: `line 8`)   \n",
    "und den Grund für den Fehler, häufig mit Erklärung (hier: `IndentationError: expected an indented block`)"
   ]
  },
  {
   "cell_type": "code",
   "execution_count": null,
   "metadata": {},
   "outputs": [],
   "source": [
    "a = 5\n",
    "b = 7\n",
    "c = 9\n",
    "\n",
    "if a <= b:\n",
    "    if c >= b:\n",
    "    # Zeile 8 müsste in dem if-Block eingerückt werden\n",
    "    print(\"a <= b und c >= b\")\n",
    "    else:\n",
    "        print(\"a <= b und b > c\")\n",
    "else:\n",
    "    print(\"a > b\")    "
   ]
  },
  {
   "cell_type": "markdown",
   "metadata": {},
   "source": [
    "## Allgemeiner Syntax-Fehler: ` SyntaxError`\n",
    "Zeile in der der Fehler auftritt: `line 6`   \n",
    "Grund für den Fehler: `SyntaxError: invalid syntax`   \n",
    "Hier sogar mit Hinweis auf das fehlerhafte/fehlende Zeichen.\n"
   ]
  },
  {
   "cell_type": "code",
   "execution_count": null,
   "metadata": {
    "scrolled": true
   },
   "outputs": [],
   "source": [
    "a = 5\n",
    "b = 7\n",
    "c = 9\n",
    "\n",
    "# In Zeile 6 fehlte der Doppelpunkt ':' nach der Bedingung, um den If-Block einzuleiten\n",
    "if a <= b\n",
    "    if c >= b:\n",
    "        print(\"a <= b und c >= b\")\n",
    "    else:\n",
    "        print(\"a <= b und b > c\")\n",
    "else:\n",
    "    print(\"a > b\")"
   ]
  },
  {
   "cell_type": "markdown",
   "metadata": {},
   "source": [
    "## Ein zu Anfang verwirrender Fehler\n",
    "\n",
    "Die Fehlermeldung ist hier im ersten Moment nicht besonders hilfreich:  \n",
    "Zeile in der der Fehler auftritt: `line 11`   \n",
    "Grund für den Fehler: `SyntaxError: invalid syntax` \n",
    "\n",
    "Stimmt nur zum Teil, denn in Zeile 11 ist alles in Ordnung und der eigentliche Fehler ist in Zeile 10.   \n",
    "In komplexeren Programmen ist das nicht mehr so einfach zu sehen wie hier,   \n",
    "deswegen ist es gut, wenn man dieses Verhalten schon mal gesehen hat."
   ]
  },
  {
   "cell_type": "code",
   "execution_count": null,
   "metadata": {
    "scrolled": true
   },
   "outputs": [],
   "source": [
    "a = 5\n",
    "b = 7\n",
    "c = 9\n",
    "\n",
    "\n",
    "if a <= b:\n",
    "    if c >= b:\n",
    "        # In Zeile 10 fehlt eine Klammer, zum Vergleich:\n",
    "#       d = ((a + b) / (a + c))/((a + b) / (a + c)) \n",
    "        d = ((a + b) / (a + c)/((a + b) / (a + c))\n",
    "        print(\"a <= b und c >= b\")\n",
    "    else:\n",
    "        print(\"a <= b und b > c\")\n",
    "else:\n",
    "    print(\"a > b\") "
   ]
  },
  {
   "cell_type": "markdown",
   "metadata": {},
   "source": [
    "## Auch sehr einfach auszulösen: `NameError`:   \n",
    "\n",
    "Zeile in der der Fehler auftritt: `----> 7 if a <= n:`   \n",
    "Grund für den Fehler: `NameError: name 'n' is not defined`    \n",
    "Fehlermeldung sieht etwas anders aus, liefert aber immer noch die gleichen Informationen."
   ]
  },
  {
   "cell_type": "code",
   "execution_count": null,
   "metadata": {},
   "outputs": [],
   "source": [
    "a = 5\n",
    "b = 7\n",
    "c = 9\n",
    "\n",
    "# Beim Schreiben des Codes vertippt (n anstelle von b),\n",
    "# sodass a <= n statt a <= b ausgewertet wird, n ist jedoch nicht definiert\n",
    "if a <= n:\n",
    "    if c >= b:\n",
    "        print(\"a <= b und c >= b\")\n",
    "    else:\n",
    "        print(\"a <= b und b > c\")\n",
    "else:\n",
    "    print(\"a > b\")    "
   ]
  },
  {
   "cell_type": "markdown",
   "metadata": {},
   "source": [
    "## Fehler bei Zugriffen auf Listen: ` IndexError`\n",
    "Zeile in der der Fehler auftritt: `----> 4 names[4]`   \n",
    "Grund für den Fehler: `IndexError: list index out of range`   \n",
    "Fehlermeldung sieht etwas anders aus, liefert aber immer noch die gleichen Informationen."
   ]
  },
  {
   "cell_type": "code",
   "execution_count": null,
   "metadata": {
    "scrolled": true
   },
   "outputs": [],
   "source": [
    "names = [\"Anna\",\"Jan\",\"Marie\",\"Tim\"]\n",
    "# Die Liste hat vier Einträge, da der erste Index aber 0 ist ist der letzte Index 3\n",
    "# der Index 4 der in Zeile 4 abgerufen wird überschreitet diesen Bereich\n",
    "names[4]"
   ]
  },
  {
   "cell_type": "markdown",
   "metadata": {},
   "source": [
    "## Fehler bei Zugriffen auf Dictionaries: ` KeyError`\n",
    "Zeile in der der Fehler auftritt: `----> 4 numbers[\"five\"]`   \n",
    "Grund für den Fehler: `KeyError: 'five'`   \n",
    "Fehlermeldung sieht etwas anders aus, liefert aber immer noch die gleichen Informationen."
   ]
  },
  {
   "cell_type": "code",
   "execution_count": null,
   "metadata": {
    "scrolled": true
   },
   "outputs": [],
   "source": [
    "numbers = {\"one\": 1 ,\"two\": 2,\"three\": 3,\"four\": 4}\n",
    "# Analog zum Beispiel mit der Listen Index\n",
    "# Der key \"five\" ist nicht in dem Dictionary vorhanden\n",
    "numbers[\"five\"]"
   ]
  },
  {
   "cell_type": "markdown",
   "metadata": {},
   "source": [
    "## Komplexer Fehler mit Traceback:\n",
    "Wenn an einem Fehler mehrere Funktionen beteiligt sind,   \n",
    "gibt die Fehlermeldung einen *Traceback* aus.   \n",
    "Dieser Fall ist eher die Regel, vorallem, wenn Module verwendet werden.   \n",
    "Der *Traceback* zeigt die Reihenfolge aller Funktionsaufrufe, die    \n",
    "am Ende zu dem Fehler geführt haben mit dem letzten Aufruf ganz unten *(most recent call last)*.   \n",
    "\n",
    "Zeilen die zum Auftreten des Fehlers führen:   \n",
    "Funktionsaufruf in Zeile 10:    \n",
    "`---> 10 add_one_to_inverse_difference(x,y)`   \n",
    "Ergebnis des Funktionsaufrufs ist das `return` in Zeile 5 mit neuem Funktionsaufruf:   \n",
    "`----> 5     return 1 + inverse_difference(a, b)`   \n",
    "Ergebnis des 2. Funktionsaufrufs ist das `return` in Zeile 2:   \n",
    "`----> 2     return 1/(a - b)`   \n",
    "Hier tritt der Fehler auf, da durch Null geteilt wird, wenn a und b gleich sind!\n",
    "\n",
    "Grund für den Fehler: `ZeroDivisionError: division by zero`   "
   ]
  },
  {
   "cell_type": "code",
   "execution_count": null,
   "metadata": {},
   "outputs": [],
   "source": [
    "def inverse_difference(a, b):\n",
    "    return 1/(a - b)\n",
    "\n",
    "def add_one_to_inverse_difference(a, b):\n",
    "    return 1 + inverse_difference(a, b) \n",
    "\n",
    "def add_2_to_inverse_difference(a, b):\n",
    "    return add_one_to_inverse_difference(a, b) + 2\n",
    "\n",
    "x = 2\n",
    "y = 2\n",
    "\n",
    "add_one_to_inverse_difference(x,y)\n"
   ]
  },
  {
   "cell_type": "markdown",
   "metadata": {},
   "source": [
    "## Debugging *leicht* gemacht\n",
    "Es kann vorkommen, dass man mal überhaupt nicht weiß, warum etwas nicht funktioniert.   \n",
    "\n",
    "In diesem Fall sollte man zunächst mal *Ruhe bewahren*   \n",
    "und sich dann auf systematische Fehlersuche begeben.   \n",
    "Ein einfacher Ansatz ist das `print()`-debugging.\n"
   ]
  },
  {
   "cell_type": "markdown",
   "metadata": {},
   "source": [
    "Kleiner Trick, um Schuhgröße und Alter einer weiteren Person zu berechnen.\n",
    "Die zweite Person muss folgende Anweisungen befolgen:\n",
    "\n",
    "    1. Multipliziere deine Schuhgröße mit 5         \n",
    "    2. Addiere 50 zum Ergebnis                      \n",
    "    3. Multipliziere das Ergebnis mit 20            \n",
    "    4. Addiere 1020 zum Ergebnis                    \n",
    "    5. Ziehe dein Geburtsjahr vom Ergebnis ab\n",
    "    6. Nenne das Ergebnis\n",
    "    "
   ]
  },
  {
   "cell_type": "code",
   "execution_count": null,
   "metadata": {},
   "outputs": [],
   "source": [
    "def shoesize_and_age(shoesize, birth_year):\n",
    "    step_1 = shoesize * 5\n",
    "    step_2 = step_1 + 50\n",
    "    step_3 = step_2 * 20\n",
    "    step_4 = step_3 + 1020\n",
    "    step_5 = step_4 - birth_year\n",
    " \n",
    "    return step_5"
   ]
  },
  {
   "cell_type": "markdown",
   "metadata": {},
   "source": [
    "#### Beispiel: \n",
    "Mit der Schuhgröße 45 und dem Geburtsjahr 1993, kriege ich die Zahl `4527` raus.   \n",
    "Ich habe (wie erwähnt die Schuhgröße 45) und bin 27 Jahre alt.   \n",
    "Wie funktioniert dieser Trick?!"
   ]
  },
  {
   "cell_type": "code",
   "execution_count": null,
   "metadata": {},
   "outputs": [],
   "source": [
    "shoesize_and_age(45, 1993)"
   ]
  },
  {
   "cell_type": "markdown",
   "metadata": {},
   "source": [
    "Die `print()-Debugguing` Methode:"
   ]
  },
  {
   "cell_type": "code",
   "execution_count": null,
   "metadata": {},
   "outputs": [],
   "source": [
    "def shoesize_and_age(shoesize, birth_year):\n",
    "    print(\"shoesize:\", shoesize)\n",
    "    step_1 = shoesize * 5\n",
    "    print(\"step_1:\", step_1)\n",
    "    step_2 = step_1 + 50\n",
    "    print(\"step_2:\", step_2)\n",
    "    step_3 = step_2 * 20\n",
    "    print(\"step_3:\", step_3)\n",
    "    step_4 = step_3 + 1020\n",
    "    print(\"step_4:\", step_4)\n",
    "    step_5 = step_4 - birth_year\n",
    "    print(\"step_5:\", step_5)\n",
    "    \n",
    "    return step_5"
   ]
  },
  {
   "cell_type": "code",
   "execution_count": null,
   "metadata": {},
   "outputs": [],
   "source": [
    "shoesize_and_age(45, 1993)"
   ]
  },
  {
   "cell_type": "markdown",
   "metadata": {},
   "source": [
    "Die coolere `IPython.embed()`-Methode:"
   ]
  },
  {
   "cell_type": "code",
   "execution_count": null,
   "metadata": {},
   "outputs": [],
   "source": [
    "import IPython\n",
    "\n",
    "def shoesize_and_age(shoesize, birth_year):\n",
    "    step_1 = shoesize * 5\n",
    "    step_2 = step_1 + 50\n",
    "    step_3 = step_2 * 20\n",
    "    step_4 = step_3 + 1020\n",
    "    step_5 = step_4 - birth_year\n",
    "    \n",
    "    IPython.embed()\n",
    " \n",
    "    return step_5"
   ]
  },
  {
   "cell_type": "code",
   "execution_count": null,
   "metadata": {},
   "outputs": [],
   "source": [
    "shoesize_and_age(45, 1993)"
   ]
  },
  {
   "cell_type": "markdown",
   "metadata": {},
   "source": [
    "Das funktioniert auch in normalen Python `.py` Dateien.   \n",
    "`IPython.embed()` öffnet ein `IPython`-Terminalfenster mit allen Variablennamen,   \n",
    "die vorher definiert wurden. Man kann dann interaktiv nach Problemen im Code suchen   \n",
    "oder wie hier herrausfinden wie Code funktioniert."
   ]
  }
 ],
 "metadata": {
  "anaconda-cloud": {},
  "kernelspec": {
   "display_name": "Python 3",
   "language": "python",
   "name": "python3"
  },
  "language_info": {
   "codemirror_mode": {
    "name": "ipython",
    "version": 3
   },
   "file_extension": ".py",
   "mimetype": "text/x-python",
   "name": "python",
   "nbconvert_exporter": "python",
   "pygments_lexer": "ipython3",
   "version": "3.7.3"
  }
 },
 "nbformat": 4,
 "nbformat_minor": 1
}
