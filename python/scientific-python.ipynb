{
 "cells": [
  {
   "cell_type": "markdown",
   "metadata": {},
   "source": [
    "# SciPy\n",
    "![SciPy](https://raw.githubusercontent.com/scipy/scipy/da82ac849a4ccade2d954a0998067e6aa706dd70/doc/source/_static/logo.svg)\n",
    "\n",
    "- Baut auf NumPy auf\n",
    "- Kann numerisch integrieren, DGLs lösen, optimieren, minimieren, …\n",
    "- Enthält auch physikalische Konstanten und wichtige mathematische Funktionen\n",
    "\n",
    "Überblick über (fast) alles Weitere, was SciPy kann, gibt es hier:\n",
    "\n",
    "- https://github.com/MaxNoe/scientific_python_notebooks/blob/master/scipy.ipynb"
   ]
  },
  {
   "cell_type": "code",
   "execution_count": null,
   "metadata": {},
   "outputs": [],
   "source": [
    "%%javascript\n",
    "$.getScript('https://kmahelona.github.io/ipython_notebook_goodies/ipython_notebook_toc.js')"
   ]
  },
  {
   "cell_type": "markdown",
   "metadata": {},
   "source": [
    "## Inhalt\n",
    "\n",
    "<div id=\"toc\"></div>"
   ]
  },
  {
   "cell_type": "markdown",
   "metadata": {},
   "source": [
    "## Abrufen von Naturkonstanten\n",
    "\n",
    "Wenn solche Konstanten genutzt werden, muss das korrekt mitgeteilt, also zitiert werden.\n",
    "Darauf gehen wir nächste Woche im LaTeX-Workshop ein :-)\n",
    "\n",
    "(Quelle hier: *scipy + version*)"
   ]
  },
  {
   "cell_type": "code",
   "execution_count": null,
   "metadata": {},
   "outputs": [],
   "source": [
    "import numpy as np\n",
    "\n",
    "# physical constants\n",
    "import scipy.constants as const\n",
    "\n",
    "planck_value = const.Planck  # returns the value\n",
    "planck_full = const.physical_constants[\n",
    "    \"Planck constant\"\n",
    "]  # returns value, unit and uncertainty\n",
    "print(f\"{planck_value = }\", f\"{planck_full = }\", sep=\"\\n\")"
   ]
  },
  {
   "cell_type": "code",
   "execution_count": null,
   "metadata": {},
   "outputs": [],
   "source": [
    "# a list of all included constants\n",
    "# search the web for \"scipy physical constants reference guide\" to find the same list\n",
    "# We don't print the full list in the html file, to keep the notebook more managable\n",
    "# const.physical_constants"
   ]
  },
  {
   "cell_type": "code",
   "execution_count": null,
   "metadata": {},
   "outputs": [],
   "source": [
    "# convert temperatures:\n",
    "print(const.convert_temperature(100, \"c\", \"K\"))\n",
    "print(const.convert_temperature(100, \"kelvin\", \"Celsius\"))\n",
    "print(const.convert_temperature(100, \"f\", \"C\"))"
   ]
  },
  {
   "cell_type": "code",
   "execution_count": null,
   "metadata": {},
   "outputs": [],
   "source": [
    "# convert angles:\n",
    "print(np.rad2deg(np.pi))\n",
    "print(np.deg2rad(90))"
   ]
  },
  {
   "cell_type": "markdown",
   "metadata": {},
   "source": [
    "## Fitten\n",
    "Oft möchte man eine Funktion mit freien Parametern, zum Beispiel eine Erwartung aus der Theorie, an die gemessenen Werte anpassen.\n",
    "Dies nennt man Fit.\n",
    "\n",
    "Die Funktion `scipy.optimize.curve_fit` nutzt die numerische Methode der kleinsten Quadrate, die arbiträre Funktionen fitten kann.\n",
    "Für Funktionen, die eine Linearkombination von Einzelfunktionen sind, also\n",
    "\n",
    "$$\n",
    "f(x) = \\sum_i^N a_i \\cdot f_i(x),\n",
    "$$\n",
    "\n",
    "existiert eine analytische Lösung. Deswegen sollten in solchen Fällen (z.B. alle Polynome) entsprechende Funktionen genutzt werden (z.B. `np.polyfit`).\n",
    "\n",
    "### Lineare Regression bzw. Regression von Polynomen\n",
    "\n",
    "Im Folgenden wird eine lineare Regression mit `np.polyfit` durchgeführt:\n",
    "\n",
    "$$\n",
    "f(x) = a + b \\cdot x\n",
    "$$"
   ]
  },
  {
   "cell_type": "code",
   "execution_count": null,
   "metadata": {},
   "outputs": [],
   "source": [
    "# prepare plot\n",
    "%matplotlib inline\n",
    "import matplotlib.pyplot as plt\n",
    "\n",
    "plt.rcParams[\"figure.figsize\"] = (10, 8)\n",
    "plt.rcParams[\"font.size\"] = 16\n",
    "\n",
    "# load data\n",
    "x, y = np.genfromtxt(\"data/example_data_linear.txt\", unpack=True)\n",
    "\n",
    "fig, ax = plt.subplots(1, 1, layout=\"constrained\")\n",
    "\n",
    "ax.plot(x, y, \"k.\", label=\"example data\")\n",
    "ax.set(xlabel=r\"$t \\,/\\, \\mathrm{s}$\", ylabel=r\"$s \\,/\\, \\mathrm{m}$\");"
   ]
  },
  {
   "cell_type": "code",
   "execution_count": null,
   "metadata": {},
   "outputs": [],
   "source": [
    "# Fit a polynomial of degree 1, return covariance matrix\n",
    "params, covariance_matrix = np.polyfit(x, y, deg=1, cov=True)\n",
    "\n",
    "uncertainties = np.sqrt(np.diag(covariance_matrix))\n",
    "\n",
    "for name, value, uncertainty in zip(\"ab\", params, uncertainties):\n",
    "    print(f\"{name} = {value:.3f} ± {uncertainty:.3f}\")"
   ]
  },
  {
   "cell_type": "code",
   "execution_count": null,
   "metadata": {},
   "outputs": [],
   "source": [
    "x_plot = np.linspace(0, 10)\n",
    "\n",
    "fig, ax = plt.subplots(1, 1, layout=\"constrained\")\n",
    "\n",
    "ax.plot(x, y, \"k.\", label=\"Messwerte\")\n",
    "ax.plot(\n",
    "    x_plot,\n",
    "    params[0] * x_plot + params[1],\n",
    "    label=\"Lineare Regression\",\n",
    "    linewidth=3,\n",
    "    color=\"tab:orange\",\n",
    ")\n",
    "ax.legend()\n",
    "ax.set(xlabel=r\"$t \\,/\\, \\mathrm{s}$\", ylabel=r\"$s \\,/\\, \\mathrm{m}$\");"
   ]
  },
  {
   "cell_type": "markdown",
   "metadata": {
    "collapsed": true,
    "jupyter": {
     "outputs_hidden": true
    }
   },
   "source": [
    "### Nichtlineare Funktionen der Parameter\n",
    "\n",
    "Wenn eine Funktion nicht linear bezüglich der freien Parameter ist, muss die Lösung numerisch gefunden werden.\n",
    "\n",
    "Als erstes Beispiel dafür schauen wir uns folgende Daten an:"
   ]
  },
  {
   "cell_type": "code",
   "execution_count": null,
   "metadata": {},
   "outputs": [],
   "source": [
    "x, y = np.genfromtxt(\"data/sin_fit.txt\", unpack=True)\n",
    "\n",
    "ax.cla()\n",
    "\n",
    "ax.plot(x, y, \"o\", label=\"Messwerte\")\n",
    "ax.set(xlabel=r\"$t$ / s\", ylabel=r\"$U$ / V\")\n",
    "ax.legend()\n",
    "fig"
   ]
  },
  {
   "cell_type": "markdown",
   "metadata": {},
   "source": [
    "Diese Daten sollen an in der Theorie eine Sinus-Kurve beschreiben. Wir schreiben den Sinus allgemein als\n",
    "$$U(t) = a \\cdot \\sin(b \\cdot t) + c~.$$\n",
    "und definieren uns die entsprechende Funktion im Code."
   ]
  },
  {
   "cell_type": "code",
   "execution_count": null,
   "metadata": {},
   "outputs": [],
   "source": [
    "def sinus(x, a, b, c):\n",
    "    return a * np.sin(b * x) + c"
   ]
  },
  {
   "cell_type": "markdown",
   "metadata": {},
   "source": [
    "Für das fitten nutzen wir jetzt `curve_fit` und bekommen wieder die Parameter und Kovarianz-Matrix als Rückgabewerte.\n"
   ]
  },
  {
   "cell_type": "code",
   "execution_count": null,
   "metadata": {},
   "outputs": [],
   "source": [
    "from scipy.optimize import curve_fit\n",
    "\n",
    "params, covariance_matrix = curve_fit(sinus, x, y)\n",
    "\n",
    "uncertainties = np.sqrt(np.diag(covariance_matrix))\n",
    "\n",
    "for name, value, uncertainty in zip(\"abc\", params, uncertainties):\n",
    "    print(f\"{name} = {value:.3f} ± {uncertainty:.3f}\")"
   ]
  },
  {
   "cell_type": "markdown",
   "metadata": {},
   "source": [
    "Jetzt können wir die gefittete Funktion in den Plot der Messwerte hinzufügen."
   ]
  },
  {
   "cell_type": "code",
   "execution_count": null,
   "metadata": {},
   "outputs": [],
   "source": [
    "ax.cla()\n",
    "\n",
    "x_sin_fit = np.linspace(0, 2 * np.pi)\n",
    "\n",
    "ax.plot(x, y, \"o\", label=\"Messwerte\")\n",
    "ax.plot(x_sin_fit, sinus(x_sin_fit, *params), label=\"Sinus Fit\")\n",
    "ax.set(xlabel=r\"$t$ / s\", ylabel=r\"$U$ / V\")\n",
    "ax.legend()\n",
    "fig"
   ]
  },
  {
   "cell_type": "markdown",
   "metadata": {},
   "source": [
    "Bei dieser Variante des Fits kann es passieren, dass der Minimierungsalgorithmus in lokale Maxima hineinläuft und unsinnige Ergebnisse liefert,\n",
    "dies kann mit guten Startwerten meistens vermieden werden.\n",
    "\n",
    "Als Beispiel einer komplexeren Funktion wird im Folgenden die `Sigmoidfunktion` verwendet (ähnlich zum `tanh`):\n",
    "\n",
    "$$ f(x; a, b, c) = \\frac{a}{1 + \\exp(-(x-b))} + c$$"
   ]
  },
  {
   "cell_type": "code",
   "execution_count": null,
   "metadata": {},
   "outputs": [],
   "source": [
    "def sigmoid(x, a, b, c):\n",
    "    return a / (1 + np.exp(-(x - b))) + c\n",
    "\n",
    "\n",
    "x_plot = np.linspace(-50, 50, 1000)\n",
    "\n",
    "ax.cla()\n",
    "\n",
    "ax.set_xlabel(\"x\")\n",
    "ax.set_ylabel(\"y\")\n",
    "\n",
    "ax.plot(x_plot, sigmoid(x_plot, 1, 0, 0), label=\"Sigmoid\")\n",
    "ax.plot(x_plot, np.tanh(x_plot), label=\"tanh\")\n",
    "ax.legend()\n",
    "ax.set(xlabel=r\"$x$\", ylabel=r\"$f(x)$\")\n",
    "fig"
   ]
  },
  {
   "cell_type": "markdown",
   "metadata": {},
   "source": [
    "Die Messwerte aus einem Praktikumsversuch:"
   ]
  },
  {
   "cell_type": "code",
   "execution_count": null,
   "metadata": {},
   "outputs": [],
   "source": [
    "x, y = np.loadtxt(\"data/fit_data_with_init_values.txt\", unpack=True)\n",
    "\n",
    "ax.cla()\n",
    "ax.plot(x, y, \"o\", label=r\"Messwerte\")\n",
    "\n",
    "ax.set(xlabel=r\"Temperatur / °C\", ylabel=r\"$GP$\")\n",
    "fig"
   ]
  },
  {
   "cell_type": "markdown",
   "metadata": {},
   "source": [
    "Ein einfacher Fit wie oben funktioniert hier nicht so gut:"
   ]
  },
  {
   "cell_type": "code",
   "execution_count": null,
   "metadata": {},
   "outputs": [],
   "source": [
    "params, covariance_matrix = curve_fit(sigmoid, x, y)\n",
    "\n",
    "uncertainties = np.sqrt(np.diag(covariance_matrix))\n",
    "\n",
    "for name, value, uncertainty in zip(\"abc\", params, uncertainties):\n",
    "    print(f\"{name} = {value:8.3f} ± {uncertainty:.3f}\")"
   ]
  },
  {
   "cell_type": "markdown",
   "metadata": {},
   "source": [
    "Schaut man sich die berechnete Ausgleichskurve an sieht man auch, dass das nicht stimmen kann:"
   ]
  },
  {
   "cell_type": "code",
   "execution_count": null,
   "metadata": {},
   "outputs": [],
   "source": [
    "ax.cla()\n",
    "\n",
    "ax.plot(x, y, \"o\", label=\"Messdaten\")\n",
    "ax.plot(x_plot, sigmoid(x_plot, *params), \"-\", label=r\"Sigmoid Fit\")\n",
    "\n",
    "ax.legend()\n",
    "ax.set(xlabel=r\"Temperatur / °C\", ylabel=r\"$GP$\")\n",
    "fig"
   ]
  },
  {
   "cell_type": "markdown",
   "metadata": {},
   "source": [
    "**Was macht man jetzt?**   \n",
    "Bei solchen Fragen hilft die Dokumentation der Pythonmodule (hier: scipy) oder _Stack Overflow_ weiter.   \n",
    "Folgendes _Google-Muster_ ist ein guter Anfang (beachte englische Sprache):  \n",
    "\n",
    "    python <module-name> <function-name> <What went wrong?>\n",
    "\n",
    "Also in diesem Fall: `python scipy curve_fit fails`"
   ]
  },
  {
   "cell_type": "markdown",
   "metadata": {},
   "source": [
    "Damit dieser Fit funktioniert müssen die Startwerte für den internen Minimierungsalgorithmus angepasst werden.  \n",
    "Aus der Dokumentation/Stack Overflow wissen wir jetzt, dass man mit dem\n",
    "_keyword argument_ `p0` (Standardwert is `p0=(1,1,1)`) die Startwerte einstellt:"
   ]
  },
  {
   "cell_type": "code",
   "execution_count": null,
   "metadata": {},
   "outputs": [],
   "source": [
    "params, covariance_matrix = curve_fit(sigmoid, x, y, p0=(-1, 40, 1))\n",
    "\n",
    "\n",
    "uncertainties = np.sqrt(np.diag(covariance_matrix))\n",
    "\n",
    "for name, value, uncertainty in zip(\"abc\", params, uncertainties):\n",
    "    print(f\"{name} = {value:8.3f} ± {uncertainty:.3f}\")"
   ]
  },
  {
   "cell_type": "code",
   "execution_count": null,
   "metadata": {},
   "outputs": [],
   "source": [
    "ax.cla()\n",
    "x_plot = np.linspace(0, 50, 1000)\n",
    "\n",
    "ax.plot(x, y, \"o\", label=\"Messwerte\")\n",
    "ax.plot(x_plot, sigmoid(x_plot, *params), \"-\", label=\"Sigmoid Fit\")\n",
    "\n",
    "ax.legend()\n",
    "ax.set(xlabel=r\"Temperatur / °C\", ylabel=r\"$GP$\")\n",
    "fig"
   ]
  },
  {
   "cell_type": "markdown",
   "metadata": {},
   "source": [
    "Zum Vergleich der beiden Anfangswerte (seeds) kann man sich die einmal ansehen\n",
    "und mit den angepassten Parametern vergleichen:"
   ]
  },
  {
   "cell_type": "code",
   "execution_count": null,
   "metadata": {},
   "outputs": [],
   "source": [
    "default_seed = (1, 1, 1)\n",
    "good_seed = (-1, 40, 1)\n",
    "\n",
    "parameter = [default_seed, good_seed, params]\n",
    "\n",
    "x_plot = np.linspace(-80, 80, 1000)\n",
    "\n",
    "ax.cla()\n",
    "for a, b, c in parameter:\n",
    "    ax.plot(\n",
    "        x_plot, sigmoid(x_plot, a, b, c), label=f\"f(x; {a:0.3f}, {b:0.3f}, {c:0.3f})\"\n",
    "    )\n",
    "\n",
    "ax.legend()\n",
    "ax.set(xlabel=r\"$x$\", ylabel=r\"$f(x)$\")\n",
    "fig"
   ]
  },
  {
   "cell_type": "markdown",
   "metadata": {},
   "source": [
    "Die richtigen Startwerte findet man entweder durch \n",
    "\n",
    "1. _trial and error_ => einfach ausprobieren bis es klappt\n",
    "\n",
    "2. _nachdenken_ => siehe unten\n",
    "    \n",
    "Im obigen Beispiel musste nur der Parameter `b` angepasst werden,\n",
    "weil der für die Form der Kurve sehr wichtig ist.\n",
    "\n",
    "$$ f(x; a, b, c) = \\frac{a}{1 + \\exp(-(x-b))} + c$$"
   ]
  },
  {
   "cell_type": "code",
   "execution_count": null,
   "metadata": {},
   "outputs": [],
   "source": [
    "bs = [0, 20, 40]\n",
    "\n",
    "x_plot = np.linspace(-50, 50, 1000)\n",
    "\n",
    "ax.cla()\n",
    "\n",
    "\n",
    "for b in bs:\n",
    "    (line,) = ax.plot(x_plot, sigmoid(x_plot, 1, b, 0), label=f\"f(x; 1, {b}, 0)\")\n",
    "\n",
    "    ax.plot(\n",
    "        b,\n",
    "        sigmoid(b, 1, b, 0),\n",
    "        \"o\",\n",
    "        color=line.get_color(),\n",
    "        ms=20,\n",
    "        label=f\"f(x={b}) = {sigmoid(b, 1, b, 0)}\",\n",
    "    )\n",
    "\n",
    "\n",
    "ax.legend()\n",
    "ax.set(xlabel=r\"$x$\", ylabel=r\"$f(x)$\")\n",
    "fig"
   ]
  },
  {
   "cell_type": "markdown",
   "metadata": {},
   "source": [
    "Der Parameter $b$ gibt den $x$-Wert an, bei dem die Funktion auf die Hälfte des Maximums abgefallen ist.   \n",
    "Bei den Messwerten oben ist die Stelle ungefähr bei $x=40$, also ist `b = 40` ein guter Startwert.\n",
    "\n",
    "Das lässt sich auch automatisieren:"
   ]
  },
  {
   "cell_type": "code",
   "execution_count": null,
   "metadata": {},
   "outputs": [],
   "source": [
    "ax.cla()\n",
    "ax.plot(x, y, \"o\")\n",
    "\n",
    "idx = np.argmin(np.abs(y - 0.5))\n",
    "\n",
    "ax.plot(x[idx], y[idx], \"o\")\n",
    "\n",
    "print(x[idx], y[idx])\n",
    "ax.set(xlabel=r\"$x$\", ylabel=r\"$f(x)$\")\n",
    "fig"
   ]
  },
  {
   "cell_type": "markdown",
   "metadata": {},
   "source": [
    "## Weitere nützliche Funktionen für das Praktikum\n",
    "\n",
    "Folgende Eigenschaften von Scipy sollen nur die Idee vermitteln, was noch alles möglich ist.\n",
    "\n",
    "### Statistische Verteilungen und Funktionen\n",
    "\n",
    "Das `scipy.stats` Modul enthält viele Wahrscheinlichkeitsverteilungen und -funktionen. Als Beispiel wird hier jedoch nur die Standardabweichung des Mittelwertes berechnet."
   ]
  },
  {
   "cell_type": "code",
   "execution_count": null,
   "metadata": {},
   "outputs": [],
   "source": [
    "import numpy as np\n",
    "\n",
    "x = np.array([2, 5, 7])  # create test array\n",
    "\n",
    "from scipy.stats import sem\n",
    "\n",
    "print(sem(x))  # standard error of the mean"
   ]
  },
  {
   "cell_type": "markdown",
   "metadata": {},
   "source": [
    "### Finden von Peaks\n",
    "\n",
    "Das `scipy.signal` Modul enthält Funktionen zur Signalverarbeitung. Das kann interessant sein zum automatischen Finden von Peaks, oder Bestimmung der Periodizität."
   ]
  },
  {
   "cell_type": "code",
   "execution_count": null,
   "metadata": {},
   "outputs": [],
   "source": [
    "# example data\n",
    "from scipy.datasets import electrocardiogram\n",
    "\n",
    "x = electrocardiogram()[2000:4000]\n",
    "\n",
    "# find peaks\n",
    "from scipy.signal import find_peaks\n",
    "\n",
    "peaks, _ = find_peaks(x, distance=150)\n",
    "\n",
    "fig, ax = plt.subplots(1, 1, layout=\"constrained\")\n",
    "\n",
    "ax.plot(x, label=\"EKG\")\n",
    "ax.plot(peaks, x[peaks], \"x\", ms=10, label=\"peaks\")\n",
    "ax.set(xlabel=r\"$t$\", ylabel=r\"$I \\,/\\, a.u.$\")\n",
    "ax.legend();"
   ]
  }
 ],
 "metadata": {
  "anaconda-cloud": {},
  "kernelspec": {
   "display_name": "Python 3 (ipykernel)",
   "language": "python",
   "name": "python3"
  },
  "language_info": {
   "codemirror_mode": {
    "name": "ipython",
    "version": 3
   },
   "file_extension": ".py",
   "mimetype": "text/x-python",
   "name": "python",
   "nbconvert_exporter": "python",
   "pygments_lexer": "ipython3",
   "version": "3.12.6"
  }
 },
 "nbformat": 4,
 "nbformat_minor": 4
}
