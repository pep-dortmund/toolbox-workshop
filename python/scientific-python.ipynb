{
 "cells": [
  {
   "cell_type": "markdown",
   "metadata": {},
   "source": [
    "# SciPy\n",
    "![SciPy](https://raw.githubusercontent.com/scipy/scipy-sphinx-theme/master/_static/scipyshiny_small.png)\n",
    "\n",
    "- Baut auf NumPy auf\n",
    "- Kann numerisch integrieren, DGLs lösen, optimieren, minimieren, …\n",
    "- Enthält auch physikalische Konstanten und wichtige mathematische Funktionen\n",
    "\n",
    "Überblick über (fast) alles weitere was SciPy kann gibt es hier:\n",
    "\n",
    "- https://github.com/MaxNoe/scientific_python_notebooks/blob/master/scipy.ipynb"
   ]
  },
  {
   "cell_type": "code",
   "execution_count": null,
   "metadata": {},
   "outputs": [],
   "source": [
    "import numpy as np\n",
    "\n",
    "x = np.array([2, 5, 7])"
   ]
  },
  {
   "cell_type": "code",
   "execution_count": null,
   "metadata": {},
   "outputs": [],
   "source": [
    "# standard error of the mean\n",
    "from scipy.stats import sem\n",
    "\n",
    "sem(x)"
   ]
  },
  {
   "cell_type": "code",
   "execution_count": null,
   "metadata": {},
   "outputs": [],
   "source": [
    "# physical constants\n",
    "import scipy.constants as const\n",
    "\n",
    "const.epsilon_0"
   ]
  },
  {
   "cell_type": "code",
   "execution_count": null,
   "metadata": {},
   "outputs": [],
   "source": [
    "# convert temperatures:\n",
    "print(const.convert_temperature(100, 'c', 'K'))\n",
    "print(const.convert_temperature(100, 'kelvin', 'Celsius'))"
   ]
  },
  {
   "cell_type": "code",
   "execution_count": null,
   "metadata": {},
   "outputs": [],
   "source": [
    "# convert angles:\n",
    "print(np.rad2deg(np.pi))\n",
    "print(np.deg2rad(90))"
   ]
  },
  {
   "cell_type": "code",
   "execution_count": null,
   "metadata": {
    "scrolled": true
   },
   "outputs": [],
   "source": [
    "const.physical_constants"
   ]
  },
  {
   "cell_type": "markdown",
   "metadata": {},
   "source": [
    "### Achtung\n",
    "Wenn solche Konstanten genutzt werden, muss das korrekt mitgeteilt, also zitiert werden.\n",
    "Darauf gehen wir nächste Woche im LaTeX-Workshop ein :-)\n",
    "\n",
    "(Quelle hier: *scipy + version*)"
   ]
  },
  {
   "cell_type": "code",
   "execution_count": null,
   "metadata": {},
   "outputs": [],
   "source": [
    "const.physical_constants[\"proton mass\"]\n",
    "# value, unit, error"
   ]
  },
  {
   "cell_type": "markdown",
   "metadata": {},
   "source": [
    "## Fitten\n",
    "Oft möchte man eine Funktion mit freien Parametern, zum Beispiel eine Erwartung aus der Theorie, an die gemessenen Werte anpassen.\n",
    "Dies nennt man Fit.\n",
    "\n",
    "Die Funktion `scipy.optimize.curve_fit` nutzt die numerische Methode der kleinsten Quadrate, die arbiträre Funktionen fitten kann.\n",
    "Für Funktionen, die eine Linearkombination von Einzelfunktionen sind, also\n",
    "\n",
    "$$\n",
    "f(x) = \\sum_i^N a_i \\cdot f_i(x)\n",
    "$$\n",
    "\n",
    "existiert eine analytische Lösung. Deswegen sollten in solchen Fällen (z.B. alle Polynome) entsprechende Funktionen genutzt werden (z.B. `np.polyfit`)\n",
    "\n",
    "### Lineare Regression bzw. Polynome"
   ]
  },
  {
   "cell_type": "code",
   "execution_count": null,
   "metadata": {},
   "outputs": [],
   "source": [
    "# prepare plot\n",
    "%matplotlib inline\n",
    "import matplotlib.pyplot as plt\n",
    "\n",
    "plt.rcParams['figure.figsize'] = (10, 8)\n",
    "plt.rcParams['font.size'] = 16\n",
    "\n",
    "# load data\n",
    "x, y = np.genfromtxt('data/example_data_linear.txt', unpack=True)\n",
    "\n",
    "plt.plot(x, y, 'k.', label=\"example data\")"
   ]
  },
  {
   "cell_type": "code",
   "execution_count": null,
   "metadata": {},
   "outputs": [],
   "source": [
    "# Fit a polynomial of degree 1, return covariance matrix\n",
    "params, covariance_matrix = np.polyfit(x, y, deg=1, cov=True)\n",
    "\n",
    "errors = np.sqrt(np.diag(covariance_matrix))\n",
    "\n",
    "for name, value, error in zip('ab', params, errors):\n",
    "    print(f'{name} = {value:.3f} ± {error:.3f}')"
   ]
  },
  {
   "cell_type": "code",
   "execution_count": null,
   "metadata": {},
   "outputs": [],
   "source": [
    "x_plot = np.linspace(0, 10)\n",
    "\n",
    "plt.plot(x, y, '.', label=\"Messwerte\")\n",
    "plt.plot(\n",
    "    x_plot,\n",
    "    params[0] * x_plot + params[1],\n",
    "    label='Lineare Regression',\n",
    "    linewidth=3,\n",
    ")\n",
    "plt.legend(loc=\"best\")"
   ]
  },
  {
   "cell_type": "markdown",
   "metadata": {
    "collapsed": true
   },
   "source": [
    "### Nichtlineare Funktionen der Parameter\n",
    "\n",
    "Wenn eine Funktion nicht linear bezüglich der freien Parameter ist, muss die Lösung numerisch gefunden werden.\n",
    "\n",
    "Hierbei kann es sein, dass der Minimierungsalgorithmus in lokale Maxima hineinläuft und unsinnige Ergebnisse liefert,\n",
    "dies kann mit guten Startwerten meistens vermieden werden."
   ]
  },
  {
   "cell_type": "markdown",
   "metadata": {},
   "source": [
    "## Fit einer komplexeren Funktion: Sigmoidfunktion\n",
    "(Ähnlich zum `tanh`)\n",
    "\n",
    "$$ f(x; a, b, c) = \\frac{a}{1 + \\exp(-(x-b))} + c$$"
   ]
  },
  {
   "cell_type": "code",
   "execution_count": null,
   "metadata": {},
   "outputs": [],
   "source": [
    "def sigmoid(x, a, b, c):\n",
    "    return a / (1 + np.exp(-(x - b))) + c\n",
    "    \n",
    "\n",
    "x_plot = np.linspace(-50, 50, 1000)\n",
    "\n",
    "plt.xlabel('x')\n",
    "plt.ylabel('y')\n",
    "\n",
    "plt.plot(x_plot, sigmoid(x_plot, 1, 0, 0), label=\"Sigmoid\")\n",
    "plt.plot(x_plot, np.tanh(x_plot), label=\"tanh\")\n",
    "plt.legend()"
   ]
  },
  {
   "cell_type": "markdown",
   "metadata": {},
   "source": [
    "Die Messwerte aus einem Praktikumsversuch:"
   ]
  },
  {
   "cell_type": "code",
   "execution_count": null,
   "metadata": {},
   "outputs": [],
   "source": [
    "x, y = np.loadtxt('data/fit_data_with_init_values.txt', unpack=True)\n",
    "\n",
    "plt.plot(x, y, 'o', label=r'Messwerte')\n",
    "\n",
    "plt.xlabel('Temperatur / °C')\n",
    "plt.ylabel('$GP$')"
   ]
  },
  {
   "cell_type": "markdown",
   "metadata": {},
   "source": [
    "Ein einfacher Fit wie oben funktioniert hier nicht so gut:"
   ]
  },
  {
   "cell_type": "code",
   "execution_count": null,
   "metadata": {},
   "outputs": [],
   "source": [
    "from scipy.optimize import curve_fit\n",
    "params, covariance_matrix = curve_fit(sigmoid, x, y)\n",
    "\n",
    "uncertainties = np.sqrt(np.diag(covariance_matrix))\n",
    "\n",
    "for name, value, uncertainty in zip('abc', params, uncertainties): \n",
    "    print(f'{name} = {value:8.3f} ± {uncertainty:.3f}')"
   ]
  },
  {
   "cell_type": "markdown",
   "metadata": {},
   "source": [
    "Schaut man sich die berechnete Ausgleichskurve an sieht man auch,   \n",
    "dass das nicht stimmen kann:"
   ]
  },
  {
   "cell_type": "code",
   "execution_count": null,
   "metadata": {},
   "outputs": [],
   "source": [
    "plt.xlabel('Temperatur / °C')\n",
    "plt.ylabel('$GP$')\n",
    "\n",
    "\n",
    "plt.plot(x, y, 'o', label='Messdaten')\n",
    "plt.plot(x_plot, sigmoid(x_plot, *params), \"-\", label=r'Sigmoid Fit')\n",
    "\n",
    "plt.legend(loc='best')"
   ]
  },
  {
   "cell_type": "markdown",
   "metadata": {},
   "source": [
    "**Was macht man jetzt?**   \n",
    "Bei solchen Fragen hilft die Dokumentation der Pythonmodule (hier: scipy) oder _Stackoverflow_ weiter.   \n",
    "Folgendes _Google-Muster_ ist ein guter Anfang (beachte englische Sprache):  \n",
    "\n",
    "    python <module-name> <function-name> <What went wrong?>\n",
    "\n",
    "Also in diesem Fall: `python scipy curve_fit fails`"
   ]
  },
  {
   "cell_type": "markdown",
   "metadata": {},
   "source": [
    "Damit dieser Fit funktioniert müssen die Startwerte für den internen   \n",
    "Minimierungsalgorithmus angepasst werden.  \n",
    "Aus der Dokumentation/Stackoverflow wissen wir jetzt, dass man mit dem   \n",
    "_keyword argument_ `p0` (Standardwert is `p0=(1,1,1)`) die Startwerte einstellt:"
   ]
  },
  {
   "cell_type": "code",
   "execution_count": null,
   "metadata": {},
   "outputs": [],
   "source": [
    "params, covariance_matrix = curve_fit(sigmoid, x, y, p0=(-1, 40, 1))\n",
    "\n",
    "\n",
    "uncertainties = np.sqrt(np.diag(covariance_matrix))\n",
    "\n",
    "for name, value, uncertainty in zip('abc', params, uncertainties): \n",
    "    print(f'{name} = {value:8.3f} ± {uncertainty:.3f}')"
   ]
  },
  {
   "cell_type": "code",
   "execution_count": null,
   "metadata": {},
   "outputs": [],
   "source": [
    "plt.xlabel('Temperatur / °C')\n",
    "plt.ylabel('$GP$')\n",
    "\n",
    "x_plot = np.linspace(0, 50, 1000)\n",
    "\n",
    "\n",
    "plt.plot(x, y, 'o', label='Messwerte')\n",
    "plt.plot(x_plot, sigmoid(x_plot, *params), \"-\", label='Sigmoid Fit')\n",
    "\n",
    "plt.legend(loc='best')"
   ]
  },
  {
   "cell_type": "markdown",
   "metadata": {},
   "source": [
    "Zum Vergleich der beiden Anfangswerte (seeds) kann man sich die einmal ansehen   \n",
    "und mit den angepassten Parametern vergleichen:"
   ]
  },
  {
   "cell_type": "code",
   "execution_count": null,
   "metadata": {},
   "outputs": [],
   "source": [
    "default_seed = (1,1,1)\n",
    "good_seed = (-1,40,1)\n",
    "\n",
    "parameter = [default_seed, good_seed, params]\n",
    "\n",
    "x_plot = np.linspace(-80, 80, 1000)\n",
    "\n",
    "for a, b, c in parameter:\n",
    "    plt.plot(x_plot, sigmoid(x_plot, a, b, c),  label=f\"f(x; {a:0.3f}, {b:0.3f}, {c:0.3f})\")\n",
    "    \n",
    "plt.legend()"
   ]
  },
  {
   "cell_type": "markdown",
   "metadata": {},
   "source": [
    "Die richtigen Startwerte findet man entweder durch \n",
    "\n",
    "1. _trial and error_ => einfach ausprobieren bis es klappt\n",
    "\n",
    "2. _nachdenken_ => siehe unten\n",
    "    \n",
    "Im obigen Beispiel musste nur Parameter `b` angepasst werden,   \n",
    "weil der für die Form der Kurve sehr wichtig ist.\n",
    "\n",
    "$$ f(x; a, b, c) = \\frac{a}{1 + \\exp(-(x-b))} + c$$"
   ]
  },
  {
   "cell_type": "code",
   "execution_count": null,
   "metadata": {},
   "outputs": [],
   "source": [
    "bs = [0, 20, 40]\n",
    "\n",
    "x_plot = np.linspace(-50, 50, 1000)\n",
    "\n",
    "plt.xlabel('x')\n",
    "plt.ylabel('y')\n",
    "\n",
    "\n",
    "for b in bs:\n",
    "    \n",
    "    line, = plt.plot(x_plot, sigmoid(x_plot, 1, b, 0),  label=f\"f(x; 1, {b}, 0)\")\n",
    "    \n",
    "    plt.plot(\n",
    "        b,\n",
    "        sigmoid(b, 1, b, 0),\n",
    "        \"o\",\n",
    "        color=line.get_color(),\n",
    "        ms=20,\n",
    "        label=f\"f(x={b}) = {sigmoid(b, 1, b, 0)}\"\n",
    "    )\n",
    "    \n",
    "\n",
    "plt.legend()"
   ]
  },
  {
   "cell_type": "markdown",
   "metadata": {},
   "source": [
    "Der Parameter $b$ gibt den $x$-Wert an bei dem die Funktion auf die Hälfte des Maximums abgefallen ist.   \n",
    "Bei den Messwerten oben ist die Stelle ungefähr bei $x=40$ also ist `b=40` ein guter Startwert."
   ]
  },
  {
   "cell_type": "markdown",
   "metadata": {},
   "source": [
    "Das lässt sich auch automatisieren:"
   ]
  },
  {
   "cell_type": "code",
   "execution_count": null,
   "metadata": {},
   "outputs": [],
   "source": [
    "plt.plot(x, y, 'o')\n",
    "\n",
    "idx = np.argmin(np.abs(y - 0.5))\n",
    "\n",
    "plt.plot(x[idx], y[idx], 'o')\n",
    "\n",
    "x[idx], y[idx]"
   ]
  }
 ],
 "metadata": {
  "anaconda-cloud": {},
  "kernelspec": {
   "display_name": "Python 3",
   "language": "python",
   "name": "python3"
  },
  "language_info": {
   "codemirror_mode": {
    "name": "ipython",
    "version": 3
   },
   "file_extension": ".py",
   "mimetype": "text/x-python",
   "name": "python",
   "nbconvert_exporter": "python",
   "pygments_lexer": "ipython3",
   "version": "3.7.4"
  }
 },
 "nbformat": 4,
 "nbformat_minor": 1
}
