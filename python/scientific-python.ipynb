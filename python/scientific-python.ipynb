{
 "cells": [
  {
   "cell_type": "markdown",
   "metadata": {},
   "source": [
    "# SciPy\n",
    "![SciPy](https://raw.githubusercontent.com/scipy/scipy-sphinx-theme/master/_static/scipyshiny_small.png)\n",
    "\n",
    "- Baut auf NumPy auf\n",
    "- Kann numerisch integrieren, DGLs lösen, optimieren, minimieren, …\n",
    "- Enthält auch physikalische Konstanten und wichtige mathematische Funktionen"
   ]
  },
  {
   "cell_type": "code",
   "execution_count": null,
   "metadata": {
    "collapsed": true
   },
   "outputs": [],
   "source": [
    "import numpy as np\n",
    "x = [1,2,3]"
   ]
  },
  {
   "cell_type": "code",
   "execution_count": null,
   "metadata": {},
   "outputs": [],
   "source": [
    "# standard error of the mean\n",
    "from scipy.stats import sem\n",
    "sem(x)"
   ]
  },
  {
   "cell_type": "code",
   "execution_count": null,
   "metadata": {},
   "outputs": [],
   "source": [
    "# physical constants\n",
    "import scipy.constants as const\n",
    "const.epsilon_0"
   ]
  },
  {
   "cell_type": "code",
   "execution_count": null,
   "metadata": {},
   "outputs": [],
   "source": [
    "# convert temperatures:\n",
    "print(const.convert_temperature(100,'c','k'))\n",
    "print(const.convert_temperature(100,'k','c'))"
   ]
  },
  {
   "cell_type": "code",
   "execution_count": null,
   "metadata": {},
   "outputs": [],
   "source": [
    "# convert angles:\n",
    "print(np.rad2deg(np.pi))\n",
    "print(np.deg2rad(90))"
   ]
  },
  {
   "cell_type": "code",
   "execution_count": null,
   "metadata": {},
   "outputs": [],
   "source": [
    "# more constants (including units and errors)!\n",
    "list(const.physical_constants.items())[:10]"
   ]
  },
  {
   "cell_type": "markdown",
   "metadata": {},
   "source": [
    "### Achtung\n",
    "Wenn solche Konstanten genutzt werden, muss das korrekt mitgeteilt, also zitiert werden.\n",
    "Darauf gehen wir nächste Woche im LaTeX-Workshop ein :-)\n",
    "\n",
    "(Quelle hier: *python-scipy*)"
   ]
  },
  {
   "cell_type": "code",
   "execution_count": null,
   "metadata": {},
   "outputs": [],
   "source": [
    "const.physical_constants[\"proton mass\"]\n",
    "# value, unit, error"
   ]
  },
  {
   "cell_type": "markdown",
   "metadata": {},
   "source": [
    "## Fitten\n",
    "Oft möchte man eine Funktion, zum Beispiel eine Erwartung aus der Theorie, an die gemessenen Werte anpassen.\n",
    "Dies nennt man Fit."
   ]
  },
  {
   "cell_type": "code",
   "execution_count": null,
   "metadata": {},
   "outputs": [],
   "source": [
    "# fit arbitrary functions\n",
    "from scipy.optimize import curve_fit\n",
    "\n",
    "x, y = np.genfromtxt('example_data.txt', unpack=True)\n",
    "\n",
    "def f(x, a, b):\n",
    "    return a * x + b\n",
    "\n",
    "params, covariance_matrix = curve_fit(f, x, y)\n",
    "\n",
    "errors = np.sqrt(np.diag(covariance_matrix))\n",
    "\n",
    "print('a =', params[0], '±', errors[0])\n",
    "print('b =', params[1], '±', errors[1])\n"
   ]
  },
  {
   "cell_type": "code",
   "execution_count": null,
   "metadata": {},
   "outputs": [],
   "source": [
    "# prepare plot\n",
    "%matplotlib inline\n",
    "import matplotlib.pyplot as plt\n",
    "plt.rcParams['figure.figsize'] = (10, 8)\n",
    "plt.rcParams['font.size'] = 16\n",
    "\n",
    "\n",
    "x_plot = np.linspace(0, 10)\n",
    "\n",
    "plt.plot(x, y, 'k.', label=\"example data\")\n",
    "plt.plot(x_plot, f(x_plot, *params), 'r-', label='linearer Fit', linewidth=3)\n",
    "plt.legend(loc=\"best\")"
   ]
  },
  {
   "cell_type": "markdown",
   "metadata": {
    "collapsed": true
   },
   "source": [
    "Da ein Fit mit `curve_fit()` intern ein Minimierungsalgorithmus ist, hängt   \n",
    "das Ergebnis unter Umständen von den Anfangsbedingungen ab."
   ]
  },
  {
   "cell_type": "markdown",
   "metadata": {},
   "source": [
    "Fit einer komplexeren Funktion: Sigmoidfunktion\n",
    "(Ähnlich zum `tanh`)\n",
    "\n",
    "$$ f(x; a, b, c) = \\frac{a}{1 + \\exp(-(x-b))} + c$$"
   ]
  },
  {
   "cell_type": "code",
   "execution_count": null,
   "metadata": {},
   "outputs": [],
   "source": [
    "def sigmoid(x, a, b, c):\n",
    "    y = a / (1 + np.exp(-(x-b))) + c\n",
    "    return y\n",
    "\n",
    "x_plot = np.linspace(-50, 50, 1000)\n",
    "\n",
    "plt.xlabel('x')\n",
    "plt.ylabel('y')\n",
    "\n",
    "plt.plot(x_plot, sigmoid(x_plot, 1, 0, 0), label=\"Sigmoid\")\n",
    "plt.plot(x_plot, np.tanh(x_plot), label=\"tanh\")\n",
    "plt.legend()"
   ]
  },
  {
   "cell_type": "markdown",
   "metadata": {},
   "source": [
    "Die Messwerte aus einem Praktikumsversuch:"
   ]
  },
  {
   "cell_type": "code",
   "execution_count": null,
   "metadata": {},
   "outputs": [],
   "source": [
    "x, y = np.loadtxt('fit_data_with_init_values.txt', unpack=True)\n",
    "\n",
    "plt.plot(x, y, 'ro', label=r'Messwerte')\n",
    "\n",
    "plt.xlabel('Temperatur / °C')\n",
    "plt.ylabel('$GP$')"
   ]
  },
  {
   "cell_type": "markdown",
   "metadata": {},
   "source": [
    "Ein einfacher Fit wie oben funktioniert hier nicht so gut:"
   ]
  },
  {
   "cell_type": "code",
   "execution_count": null,
   "metadata": {},
   "outputs": [],
   "source": [
    "params, covariance_matrix = curve_fit(sigmoid, x, y)\n",
    "\n",
    "errors = np.sqrt(np.diag(covariance_matrix))\n",
    "\n",
    "print('a =', params[0], '±', errors[0])\n",
    "print('b =', params[1], '±', errors[1])"
   ]
  },
  {
   "cell_type": "markdown",
   "metadata": {},
   "source": [
    "Schaut man sich die berechnete Ausgleichskurve an sieht man auch,   \n",
    "dass das nicht stimmen kann:"
   ]
  },
  {
   "cell_type": "code",
   "execution_count": null,
   "metadata": {},
   "outputs": [],
   "source": [
    "plt.xlabel('Temperatur / °C')\n",
    "plt.ylabel('$GP$')\n",
    "\n",
    "plt.plot(x, y, 'ro', label='Messdaten')\n",
    "plt.plot(x_plot, sigmoid(x_plot, *params), \"b-\", label=r'Sigmoid Fit')\n",
    "\n",
    "plt.legend(loc='best')"
   ]
  },
  {
   "cell_type": "markdown",
   "metadata": {},
   "source": [
    "**Was macht man jetzt?**   \n",
    "Bei solchen Fragen hilft die Dokumentation der Pythonmodule (hier: scipy) oder _Stackoverflow_ weiter.   \n",
    "Folgendes _Google-Muster_ ist ein guter Anfang (beachte englische Sprache):  \n",
    "\n",
    "    python <module-name> <function-name> <What went wrong?>\n",
    "\n",
    "Also in diesem Fall: `python scipy curve_fit fails`"
   ]
  },
  {
   "cell_type": "markdown",
   "metadata": {},
   "source": [
    "Damit dieser Fit funktioniert müssen die Startwerte für den internen   \n",
    "Minimierungsalgorithmus angepasst werden.  \n",
    "Aus der Dokumentation/Stackoverflow wissen wir jetzt, dass man mit dem   \n",
    "_keyword argument_ `p0` (Standardwert is `p0=(1,1,1)`) die Startwerte einstellt:"
   ]
  },
  {
   "cell_type": "code",
   "execution_count": null,
   "metadata": {},
   "outputs": [],
   "source": [
    "params, covariance_matrix = curve_fit(sigmoid, x, y, p0=(-1, 40, 1))\n",
    "\n",
    "errors = np.sqrt(np.diag(covariance_matrix))\n",
    "\n",
    "print('a =', params[0], '±', errors[0])\n",
    "print('b =', params[1], '±', errors[1])"
   ]
  },
  {
   "cell_type": "code",
   "execution_count": null,
   "metadata": {},
   "outputs": [],
   "source": [
    "plt.xlabel('Temperatur / °C')\n",
    "plt.ylabel('$GP$')\n",
    "\n",
    "x_plot = np.linspace(0, 50, 1000)\n",
    "\n",
    "plt.plot(x, y, 'ro', label='Messwerte')\n",
    "plt.plot(x_plot, sigmoid(x_plot, *params), \"b-\", label='Sigmoid Fit')\n",
    "\n",
    "plt.legend(loc='best')"
   ]
  },
  {
   "cell_type": "markdown",
   "metadata": {},
   "source": [
    "Zum Vergleich der beiden Anfangswerte (seeds) kann man sich die einmal ansehen   \n",
    "und mit den angepassten Parametern vergleichen:"
   ]
  },
  {
   "cell_type": "code",
   "execution_count": null,
   "metadata": {},
   "outputs": [],
   "source": [
    "default_seed = (1,1,1)\n",
    "good_seed = (-1,40,1)\n",
    "\n",
    "parameter = [default_seed, good_seed, params]\n",
    "\n",
    "x_plot = np.linspace(-80, 80, 1000)\n",
    "\n",
    "for p in parameter:\n",
    "    plt.plot(x_plot, sigmoid(x_plot, *p),  label=\"f(x; {0:0.3f}, {1:0.3f}, {2:0.3f})\".format(*p))\n",
    "    \n",
    "plt.legend()"
   ]
  },
  {
   "cell_type": "markdown",
   "metadata": {},
   "source": [
    "Die richtigen Startwerte findet man entweder durch \n",
    "\n",
    "1. _trial and error_ => einfach ausprobieren bis es klappt\n",
    "\n",
    "2. _nachdenken_ => siehe unten\n",
    "    \n",
    "Im obigen Beispiel musste nur Parameter `b` angepasst werden,   \n",
    "weil der für die Form der Kurve sehr wichtig ist.\n",
    "\n",
    "$$ f(x; a, b, c) = \\frac{a}{1 + \\exp(-(x-b))} + c$$"
   ]
  },
  {
   "cell_type": "code",
   "execution_count": null,
   "metadata": {},
   "outputs": [],
   "source": [
    "B = [0, 20, 40]\n",
    "\n",
    "x_plot = np.linspace(-50, 50, 1000)\n",
    "\n",
    "plt.xlabel('x')\n",
    "plt.ylabel('y')\n",
    "\n",
    "\n",
    "for b in B:\n",
    "    line = plt.plot(x_plot, sigmoid(x_plot, 1, b, 0), label=\"f(x; 1, {}, 0)\".format(b))\n",
    "    plt.plot(b, sigmoid(b, 1, b, 0), \"o\", color=line[0].get_color(), ms=20, label=\"sigmoid({}, 1, {}, 0)\".format(b,b))\n",
    "\n",
    "plt.legend()"
   ]
  },
  {
   "cell_type": "markdown",
   "metadata": {},
   "source": [
    "Der Parameter $b$ gibt den $x$-Wert an bei dem die Funktion auf die Hälfte des Maximums abgefallen ist.   \n",
    "Bei den Messwerten oben ist die Stelle ungefähr bei $x=40$ also ist `b=40` ein guter Startwert."
   ]
  }
 ],
 "metadata": {
  "anaconda-cloud": {},
  "kernelspec": {
   "display_name": "Python 3",
   "language": "python",
   "name": "python3"
  },
  "language_info": {
   "codemirror_mode": {
    "name": "ipython",
    "version": 3
   },
   "file_extension": ".py",
   "mimetype": "text/x-python",
   "name": "python",
   "nbconvert_exporter": "python",
   "pygments_lexer": "ipython3",
   "version": "3.6.1"
  }
 },
 "nbformat": 4,
 "nbformat_minor": 1
}
